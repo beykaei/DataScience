{
 "cells": [
  {
   "cell_type": "markdown",
   "metadata": {},
   "source": [
    "# TASHA - Mode Choice Model"
   ]
  },
  {
   "cell_type": "markdown",
   "metadata": {},
   "source": [
    "## Using AI to predict the mode choice by persons in household"
   ]
  },
  {
   "cell_type": "markdown",
   "metadata": {},
   "source": [
    "#### Author: Ahad Beykaei\n",
    "#### Date: Oct 11, 2017"
   ]
  },
  {
   "cell_type": "markdown",
   "metadata": {},
   "source": [
    "<em>Model V2.2</em> <br><br>\n",
    "One input layer - 49 features (~ , 49) <br>\n",
    "Three hidden layers - each 256 neurons (49, 256) (256, 256) (256, 5) <br>\n",
    "One output layer - 5 neurons for 5 types of modes (5, ~) <br>\n",
    "\n",
    "Output: D+M and C+W and T<br>\n",
    "\n",
    "Scalling variables: Min-Max Scaler <br>\n",
    "OneHotEncoding categorical data"
   ]
  },
  {
   "cell_type": "code",
   "execution_count": 12,
   "metadata": {},
   "outputs": [],
   "source": [
    "import numpy as np\n",
    "import pandas as pd\n",
    "import chardet\n",
    "import matplotlib.pyplot as plt\n",
    "\n",
    "import keras\n",
    "from keras.models import Sequential\n",
    "from keras.layers import Dense, Dropout\n",
    "from keras.layers.advanced_activations import LeakyReLU\n",
    "from keras.preprocessing import sequence"
   ]
  },
  {
   "cell_type": "markdown",
   "metadata": {},
   "source": [
    "## Find encoding format of the file "
   ]
  },
  {
   "cell_type": "code",
   "execution_count": 13,
   "metadata": {},
   "outputs": [
    {
     "name": "stdout",
     "output_type": "stream",
     "text": [
      "ascii\n"
     ]
    }
   ],
   "source": [
    "with open('processedTrips.csv', 'rb') as f:\n",
    "    result = chardet.detect(f.read())\n",
    "    \n",
    "print(result['encoding'])"
   ]
  },
  {
   "cell_type": "markdown",
   "metadata": {},
   "source": [
    "## Loading data"
   ]
  },
  {
   "cell_type": "code",
   "execution_count": 14,
   "metadata": {},
   "outputs": [],
   "source": [
    "df = pd.read_csv(\"processedTrips.csv\", encoding=result['encoding'])"
   ]
  },
  {
   "cell_type": "code",
   "execution_count": 15,
   "metadata": {},
   "outputs": [
    {
     "data": {
      "text/html": [
       "<div>\n",
       "<style>\n",
       "    .dataframe thead tr:only-child th {\n",
       "        text-align: right;\n",
       "    }\n",
       "\n",
       "    .dataframe thead th {\n",
       "        text-align: left;\n",
       "    }\n",
       "\n",
       "    .dataframe tbody tr th {\n",
       "        vertical-align: top;\n",
       "    }\n",
       "</style>\n",
       "<table border=\"1\" class=\"dataframe\">\n",
       "  <thead>\n",
       "    <tr style=\"text-align: right;\">\n",
       "      <th></th>\n",
       "      <th>HouseholdId</th>\n",
       "      <th>PersonNumber</th>\n",
       "      <th>TripNumber</th>\n",
       "      <th>StartTime</th>\n",
       "      <th>ObservedMode</th>\n",
       "      <th>PurposeOrigin</th>\n",
       "      <th>OriginZone</th>\n",
       "      <th>PurposeDestination</th>\n",
       "      <th>DestinationZone</th>\n",
       "      <th>JointTourID</th>\n",
       "      <th>...</th>\n",
       "      <th>TransitPass</th>\n",
       "      <th>Sex</th>\n",
       "      <th>EmpStat</th>\n",
       "      <th>Occ</th>\n",
       "      <th>FreeParking</th>\n",
       "      <th>AIVTT</th>\n",
       "      <th>ACOST</th>\n",
       "      <th>TransUtil</th>\n",
       "      <th>TransPrice</th>\n",
       "      <th>Distance</th>\n",
       "    </tr>\n",
       "  </thead>\n",
       "  <tbody>\n",
       "    <tr>\n",
       "      <th>0</th>\n",
       "      <td>100001</td>\n",
       "      <td>1</td>\n",
       "      <td>1</td>\n",
       "      <td>700</td>\n",
       "      <td>T</td>\n",
       "      <td>H</td>\n",
       "      <td>591</td>\n",
       "      <td>W</td>\n",
       "      <td>442</td>\n",
       "      <td>0</td>\n",
       "      <td>...</td>\n",
       "      <td>M</td>\n",
       "      <td>M</td>\n",
       "      <td>F</td>\n",
       "      <td>P</td>\n",
       "      <td>N</td>\n",
       "      <td>22.963760</td>\n",
       "      <td>2.567012</td>\n",
       "      <td>143.03660</td>\n",
       "      <td>1.980000</td>\n",
       "      <td>16.777860</td>\n",
       "    </tr>\n",
       "    <tr>\n",
       "      <th>1</th>\n",
       "      <td>100001</td>\n",
       "      <td>1</td>\n",
       "      <td>2</td>\n",
       "      <td>1600</td>\n",
       "      <td>T</td>\n",
       "      <td>W</td>\n",
       "      <td>442</td>\n",
       "      <td>H</td>\n",
       "      <td>591</td>\n",
       "      <td>0</td>\n",
       "      <td>...</td>\n",
       "      <td>M</td>\n",
       "      <td>M</td>\n",
       "      <td>F</td>\n",
       "      <td>P</td>\n",
       "      <td>N</td>\n",
       "      <td>19.327180</td>\n",
       "      <td>1.501283</td>\n",
       "      <td>89.97700</td>\n",
       "      <td>1.980000</td>\n",
       "      <td>9.812310</td>\n",
       "    </tr>\n",
       "    <tr>\n",
       "      <th>2</th>\n",
       "      <td>100001</td>\n",
       "      <td>2</td>\n",
       "      <td>1</td>\n",
       "      <td>1000</td>\n",
       "      <td>D</td>\n",
       "      <td>H</td>\n",
       "      <td>591</td>\n",
       "      <td>M</td>\n",
       "      <td>482</td>\n",
       "      <td>0</td>\n",
       "      <td>...</td>\n",
       "      <td>N</td>\n",
       "      <td>F</td>\n",
       "      <td>O</td>\n",
       "      <td>O</td>\n",
       "      <td>O</td>\n",
       "      <td>5.467029</td>\n",
       "      <td>0.722114</td>\n",
       "      <td>98.64271</td>\n",
       "      <td>1.980000</td>\n",
       "      <td>4.719703</td>\n",
       "    </tr>\n",
       "    <tr>\n",
       "      <th>3</th>\n",
       "      <td>100001</td>\n",
       "      <td>2</td>\n",
       "      <td>2</td>\n",
       "      <td>1100</td>\n",
       "      <td>D</td>\n",
       "      <td>M</td>\n",
       "      <td>482</td>\n",
       "      <td>H</td>\n",
       "      <td>591</td>\n",
       "      <td>0</td>\n",
       "      <td>...</td>\n",
       "      <td>N</td>\n",
       "      <td>F</td>\n",
       "      <td>O</td>\n",
       "      <td>O</td>\n",
       "      <td>O</td>\n",
       "      <td>4.094516</td>\n",
       "      <td>0.549011</td>\n",
       "      <td>75.52932</td>\n",
       "      <td>1.980000</td>\n",
       "      <td>3.588306</td>\n",
       "    </tr>\n",
       "    <tr>\n",
       "      <th>4</th>\n",
       "      <td>100007</td>\n",
       "      <td>1</td>\n",
       "      <td>1</td>\n",
       "      <td>1100</td>\n",
       "      <td>D</td>\n",
       "      <td>H</td>\n",
       "      <td>477</td>\n",
       "      <td>O</td>\n",
       "      <td>2255</td>\n",
       "      <td>0</td>\n",
       "      <td>...</td>\n",
       "      <td>N</td>\n",
       "      <td>M</td>\n",
       "      <td>O</td>\n",
       "      <td>O</td>\n",
       "      <td>O</td>\n",
       "      <td>6.147649</td>\n",
       "      <td>1.313678</td>\n",
       "      <td>103.15890</td>\n",
       "      <td>2.669254</td>\n",
       "      <td>8.586128</td>\n",
       "    </tr>\n",
       "  </tbody>\n",
       "</table>\n",
       "<p>5 rows × 24 columns</p>\n",
       "</div>"
      ],
      "text/plain": [
       "   HouseholdId  PersonNumber  TripNumber  StartTime ObservedMode  \\\n",
       "0       100001             1           1        700            T   \n",
       "1       100001             1           2       1600            T   \n",
       "2       100001             2           1       1000            D   \n",
       "3       100001             2           2       1100            D   \n",
       "4       100007             1           1       1100            D   \n",
       "\n",
       "  PurposeOrigin  OriginZone PurposeDestination  DestinationZone  JointTourID  \\\n",
       "0             H         591                  W              442            0   \n",
       "1             W         442                  H              591            0   \n",
       "2             H         591                  M              482            0   \n",
       "3             M         482                  H              591            0   \n",
       "4             H         477                  O             2255            0   \n",
       "\n",
       "     ...      TransitPass  Sex  EmpStat Occ FreeParking      AIVTT     ACOST  \\\n",
       "0    ...                M    M        F   P           N  22.963760  2.567012   \n",
       "1    ...                M    M        F   P           N  19.327180  1.501283   \n",
       "2    ...                N    F        O   O           O   5.467029  0.722114   \n",
       "3    ...                N    F        O   O           O   4.094516  0.549011   \n",
       "4    ...                N    M        O   O           O   6.147649  1.313678   \n",
       "\n",
       "   TransUtil TransPrice   Distance  \n",
       "0  143.03660   1.980000  16.777860  \n",
       "1   89.97700   1.980000   9.812310  \n",
       "2   98.64271   1.980000   4.719703  \n",
       "3   75.52932   1.980000   3.588306  \n",
       "4  103.15890   2.669254   8.586128  \n",
       "\n",
       "[5 rows x 24 columns]"
      ]
     },
     "execution_count": 15,
     "metadata": {},
     "output_type": "execute_result"
    }
   ],
   "source": [
    "df.head(5)"
   ]
  },
  {
   "cell_type": "markdown",
   "metadata": {},
   "source": [
    "## Data preprocessing"
   ]
  },
  {
   "cell_type": "code",
   "execution_count": 16,
   "metadata": {
    "scrolled": true
   },
   "outputs": [
    {
     "name": "stdout",
     "output_type": "stream",
     "text": [
      "Size of data: (437183, 24)\n"
     ]
    }
   ],
   "source": [
    "print(\"Size of data: \" + str(df.shape))"
   ]
  },
  {
   "cell_type": "code",
   "execution_count": 17,
   "metadata": {
    "scrolled": true
   },
   "outputs": [
    {
     "data": {
      "text/plain": [
       "Index(['HouseholdId', 'PersonNumber', 'TripNumber', 'StartTime',\n",
       "       'ObservedMode', 'PurposeOrigin', 'OriginZone', 'PurposeDestination',\n",
       "       'DestinationZone', 'JointTourID', 'JointTourRep', 'Cars', 'Age',\n",
       "       'DriverLicense', 'TransitPass', 'Sex', 'EmpStat', 'Occ', 'FreeParking',\n",
       "       'AIVTT', 'ACOST', 'TransUtil', 'TransPrice', 'Distance'],\n",
       "      dtype='object')"
      ]
     },
     "execution_count": 17,
     "metadata": {},
     "output_type": "execute_result"
    }
   ],
   "source": [
    "df.columns"
   ]
  },
  {
   "cell_type": "code",
   "execution_count": 18,
   "metadata": {},
   "outputs": [
    {
     "data": {
      "text/plain": [
       "ObservedMode\n",
       "C      5182\n",
       "D    349075\n",
       "M       354\n",
       "T     62739\n",
       "W     19833\n",
       "Name: ObservedMode, dtype: int64"
      ]
     },
     "execution_count": 18,
     "metadata": {},
     "output_type": "execute_result"
    }
   ],
   "source": [
    "df.groupby('ObservedMode').ObservedMode.count()"
   ]
  },
  {
   "cell_type": "markdown",
   "metadata": {},
   "source": [
    "### Combined output modes"
   ]
  },
  {
   "cell_type": "markdown",
   "metadata": {},
   "source": [
    "Output: D+M and C+W and T"
   ]
  },
  {
   "cell_type": "code",
   "execution_count": 19,
   "metadata": {},
   "outputs": [
    {
     "data": {
      "text/html": [
       "<div>\n",
       "<style>\n",
       "    .dataframe thead tr:only-child th {\n",
       "        text-align: right;\n",
       "    }\n",
       "\n",
       "    .dataframe thead th {\n",
       "        text-align: left;\n",
       "    }\n",
       "\n",
       "    .dataframe tbody tr th {\n",
       "        vertical-align: top;\n",
       "    }\n",
       "</style>\n",
       "<table border=\"1\" class=\"dataframe\">\n",
       "  <thead>\n",
       "    <tr style=\"text-align: right;\">\n",
       "      <th></th>\n",
       "      <th>HouseholdId</th>\n",
       "      <th>PersonNumber</th>\n",
       "      <th>TripNumber</th>\n",
       "      <th>StartTime</th>\n",
       "      <th>ObservedMode</th>\n",
       "      <th>PurposeOrigin</th>\n",
       "      <th>OriginZone</th>\n",
       "      <th>PurposeDestination</th>\n",
       "      <th>DestinationZone</th>\n",
       "      <th>JointTourID</th>\n",
       "      <th>...</th>\n",
       "      <th>TransitPass</th>\n",
       "      <th>Sex</th>\n",
       "      <th>EmpStat</th>\n",
       "      <th>Occ</th>\n",
       "      <th>FreeParking</th>\n",
       "      <th>AIVTT</th>\n",
       "      <th>ACOST</th>\n",
       "      <th>TransUtil</th>\n",
       "      <th>TransPrice</th>\n",
       "      <th>Distance</th>\n",
       "    </tr>\n",
       "  </thead>\n",
       "  <tbody>\n",
       "    <tr>\n",
       "      <th>0</th>\n",
       "      <td>100001</td>\n",
       "      <td>1</td>\n",
       "      <td>1</td>\n",
       "      <td>700</td>\n",
       "      <td>T</td>\n",
       "      <td>H</td>\n",
       "      <td>591</td>\n",
       "      <td>W</td>\n",
       "      <td>442</td>\n",
       "      <td>0</td>\n",
       "      <td>...</td>\n",
       "      <td>M</td>\n",
       "      <td>M</td>\n",
       "      <td>F</td>\n",
       "      <td>P</td>\n",
       "      <td>N</td>\n",
       "      <td>22.963760</td>\n",
       "      <td>2.567012</td>\n",
       "      <td>143.03660</td>\n",
       "      <td>1.980000</td>\n",
       "      <td>16.777860</td>\n",
       "    </tr>\n",
       "    <tr>\n",
       "      <th>1</th>\n",
       "      <td>100001</td>\n",
       "      <td>1</td>\n",
       "      <td>2</td>\n",
       "      <td>1600</td>\n",
       "      <td>T</td>\n",
       "      <td>W</td>\n",
       "      <td>442</td>\n",
       "      <td>H</td>\n",
       "      <td>591</td>\n",
       "      <td>0</td>\n",
       "      <td>...</td>\n",
       "      <td>M</td>\n",
       "      <td>M</td>\n",
       "      <td>F</td>\n",
       "      <td>P</td>\n",
       "      <td>N</td>\n",
       "      <td>19.327180</td>\n",
       "      <td>1.501283</td>\n",
       "      <td>89.97700</td>\n",
       "      <td>1.980000</td>\n",
       "      <td>9.812310</td>\n",
       "    </tr>\n",
       "    <tr>\n",
       "      <th>2</th>\n",
       "      <td>100001</td>\n",
       "      <td>2</td>\n",
       "      <td>1</td>\n",
       "      <td>1000</td>\n",
       "      <td>DM</td>\n",
       "      <td>H</td>\n",
       "      <td>591</td>\n",
       "      <td>M</td>\n",
       "      <td>482</td>\n",
       "      <td>0</td>\n",
       "      <td>...</td>\n",
       "      <td>N</td>\n",
       "      <td>F</td>\n",
       "      <td>O</td>\n",
       "      <td>O</td>\n",
       "      <td>O</td>\n",
       "      <td>5.467029</td>\n",
       "      <td>0.722114</td>\n",
       "      <td>98.64271</td>\n",
       "      <td>1.980000</td>\n",
       "      <td>4.719703</td>\n",
       "    </tr>\n",
       "    <tr>\n",
       "      <th>3</th>\n",
       "      <td>100001</td>\n",
       "      <td>2</td>\n",
       "      <td>2</td>\n",
       "      <td>1100</td>\n",
       "      <td>DM</td>\n",
       "      <td>M</td>\n",
       "      <td>482</td>\n",
       "      <td>H</td>\n",
       "      <td>591</td>\n",
       "      <td>0</td>\n",
       "      <td>...</td>\n",
       "      <td>N</td>\n",
       "      <td>F</td>\n",
       "      <td>O</td>\n",
       "      <td>O</td>\n",
       "      <td>O</td>\n",
       "      <td>4.094516</td>\n",
       "      <td>0.549011</td>\n",
       "      <td>75.52932</td>\n",
       "      <td>1.980000</td>\n",
       "      <td>3.588306</td>\n",
       "    </tr>\n",
       "    <tr>\n",
       "      <th>4</th>\n",
       "      <td>100007</td>\n",
       "      <td>1</td>\n",
       "      <td>1</td>\n",
       "      <td>1100</td>\n",
       "      <td>DM</td>\n",
       "      <td>H</td>\n",
       "      <td>477</td>\n",
       "      <td>O</td>\n",
       "      <td>2255</td>\n",
       "      <td>0</td>\n",
       "      <td>...</td>\n",
       "      <td>N</td>\n",
       "      <td>M</td>\n",
       "      <td>O</td>\n",
       "      <td>O</td>\n",
       "      <td>O</td>\n",
       "      <td>6.147649</td>\n",
       "      <td>1.313678</td>\n",
       "      <td>103.15890</td>\n",
       "      <td>2.669254</td>\n",
       "      <td>8.586128</td>\n",
       "    </tr>\n",
       "  </tbody>\n",
       "</table>\n",
       "<p>5 rows × 24 columns</p>\n",
       "</div>"
      ],
      "text/plain": [
       "   HouseholdId  PersonNumber  TripNumber  StartTime ObservedMode  \\\n",
       "0       100001             1           1        700            T   \n",
       "1       100001             1           2       1600            T   \n",
       "2       100001             2           1       1000           DM   \n",
       "3       100001             2           2       1100           DM   \n",
       "4       100007             1           1       1100           DM   \n",
       "\n",
       "  PurposeOrigin  OriginZone PurposeDestination  DestinationZone  JointTourID  \\\n",
       "0             H         591                  W              442            0   \n",
       "1             W         442                  H              591            0   \n",
       "2             H         591                  M              482            0   \n",
       "3             M         482                  H              591            0   \n",
       "4             H         477                  O             2255            0   \n",
       "\n",
       "     ...      TransitPass  Sex  EmpStat Occ FreeParking      AIVTT     ACOST  \\\n",
       "0    ...                M    M        F   P           N  22.963760  2.567012   \n",
       "1    ...                M    M        F   P           N  19.327180  1.501283   \n",
       "2    ...                N    F        O   O           O   5.467029  0.722114   \n",
       "3    ...                N    F        O   O           O   4.094516  0.549011   \n",
       "4    ...                N    M        O   O           O   6.147649  1.313678   \n",
       "\n",
       "   TransUtil TransPrice   Distance  \n",
       "0  143.03660   1.980000  16.777860  \n",
       "1   89.97700   1.980000   9.812310  \n",
       "2   98.64271   1.980000   4.719703  \n",
       "3   75.52932   1.980000   3.588306  \n",
       "4  103.15890   2.669254   8.586128  \n",
       "\n",
       "[5 rows x 24 columns]"
      ]
     },
     "execution_count": 19,
     "metadata": {},
     "output_type": "execute_result"
    }
   ],
   "source": [
    "def prepareOutput(x):\n",
    "    if x == 'D' or x == 'M':\n",
    "        return 'DM'\n",
    "    elif x == 'C' or x == 'W':\n",
    "        return 'CW'\n",
    "    else:\n",
    "        return x\n",
    "    \n",
    "df['ObservedMode'] = df['ObservedMode'].map(prepareOutput)\n",
    "df.head()"
   ]
  },
  {
   "cell_type": "markdown",
   "metadata": {},
   "source": [
    "### Numerical variables description"
   ]
  },
  {
   "cell_type": "code",
   "execution_count": 20,
   "metadata": {},
   "outputs": [
    {
     "data": {
      "text/html": [
       "<div>\n",
       "<style>\n",
       "    .dataframe thead tr:only-child th {\n",
       "        text-align: right;\n",
       "    }\n",
       "\n",
       "    .dataframe thead th {\n",
       "        text-align: left;\n",
       "    }\n",
       "\n",
       "    .dataframe tbody tr th {\n",
       "        vertical-align: top;\n",
       "    }\n",
       "</style>\n",
       "<table border=\"1\" class=\"dataframe\">\n",
       "  <thead>\n",
       "    <tr style=\"text-align: right;\">\n",
       "      <th></th>\n",
       "      <th>Cars</th>\n",
       "      <th>Age</th>\n",
       "      <th>AIVTT</th>\n",
       "      <th>ACOST</th>\n",
       "      <th>TransUtil</th>\n",
       "      <th>TransPrice</th>\n",
       "      <th>Distance</th>\n",
       "    </tr>\n",
       "  </thead>\n",
       "  <tbody>\n",
       "    <tr>\n",
       "      <th>count</th>\n",
       "      <td>437183.000000</td>\n",
       "      <td>437183.000000</td>\n",
       "      <td>437183.000000</td>\n",
       "      <td>437183.000000</td>\n",
       "      <td>437183.000000</td>\n",
       "      <td>437183.000000</td>\n",
       "      <td>437183.000000</td>\n",
       "    </tr>\n",
       "    <tr>\n",
       "      <th>mean</th>\n",
       "      <td>1.760608</td>\n",
       "      <td>48.464384</td>\n",
       "      <td>15.242959</td>\n",
       "      <td>2.218515</td>\n",
       "      <td>166.403107</td>\n",
       "      <td>29.330120</td>\n",
       "      <td>14.171657</td>\n",
       "    </tr>\n",
       "    <tr>\n",
       "      <th>std</th>\n",
       "      <td>1.841894</td>\n",
       "      <td>16.412295</td>\n",
       "      <td>15.246949</td>\n",
       "      <td>2.711710</td>\n",
       "      <td>182.197141</td>\n",
       "      <td>160.127512</td>\n",
       "      <td>17.740865</td>\n",
       "    </tr>\n",
       "    <tr>\n",
       "      <th>min</th>\n",
       "      <td>0.000000</td>\n",
       "      <td>11.000000</td>\n",
       "      <td>0.000000</td>\n",
       "      <td>0.000000</td>\n",
       "      <td>0.000000</td>\n",
       "      <td>0.000000</td>\n",
       "      <td>0.000000</td>\n",
       "    </tr>\n",
       "    <tr>\n",
       "      <th>25%</th>\n",
       "      <td>1.000000</td>\n",
       "      <td>37.000000</td>\n",
       "      <td>5.127548</td>\n",
       "      <td>0.606866</td>\n",
       "      <td>84.700670</td>\n",
       "      <td>1.980000</td>\n",
       "      <td>3.681851</td>\n",
       "    </tr>\n",
       "    <tr>\n",
       "      <th>50%</th>\n",
       "      <td>2.000000</td>\n",
       "      <td>49.000000</td>\n",
       "      <td>10.066300</td>\n",
       "      <td>1.279561</td>\n",
       "      <td>113.884000</td>\n",
       "      <td>1.980000</td>\n",
       "      <td>8.154753</td>\n",
       "    </tr>\n",
       "    <tr>\n",
       "      <th>75%</th>\n",
       "      <td>2.000000</td>\n",
       "      <td>60.000000</td>\n",
       "      <td>19.860945</td>\n",
       "      <td>2.783548</td>\n",
       "      <td>169.514450</td>\n",
       "      <td>2.786327</td>\n",
       "      <td>18.014565</td>\n",
       "    </tr>\n",
       "    <tr>\n",
       "      <th>max</th>\n",
       "      <td>99.000000</td>\n",
       "      <td>99.000000</td>\n",
       "      <td>189.149900</td>\n",
       "      <td>47.364570</td>\n",
       "      <td>2493.083000</td>\n",
       "      <td>1000.000000</td>\n",
       "      <td>309.572400</td>\n",
       "    </tr>\n",
       "  </tbody>\n",
       "</table>\n",
       "</div>"
      ],
      "text/plain": [
       "                Cars            Age          AIVTT          ACOST  \\\n",
       "count  437183.000000  437183.000000  437183.000000  437183.000000   \n",
       "mean        1.760608      48.464384      15.242959       2.218515   \n",
       "std         1.841894      16.412295      15.246949       2.711710   \n",
       "min         0.000000      11.000000       0.000000       0.000000   \n",
       "25%         1.000000      37.000000       5.127548       0.606866   \n",
       "50%         2.000000      49.000000      10.066300       1.279561   \n",
       "75%         2.000000      60.000000      19.860945       2.783548   \n",
       "max        99.000000      99.000000     189.149900      47.364570   \n",
       "\n",
       "           TransUtil     TransPrice       Distance  \n",
       "count  437183.000000  437183.000000  437183.000000  \n",
       "mean      166.403107      29.330120      14.171657  \n",
       "std       182.197141     160.127512      17.740865  \n",
       "min         0.000000       0.000000       0.000000  \n",
       "25%        84.700670       1.980000       3.681851  \n",
       "50%       113.884000       1.980000       8.154753  \n",
       "75%       169.514450       2.786327      18.014565  \n",
       "max      2493.083000    1000.000000     309.572400  "
      ]
     },
     "execution_count": 20,
     "metadata": {},
     "output_type": "execute_result"
    }
   ],
   "source": [
    "# Including only numeric columns in a DataFrame description.\n",
    "# df.describe(include=[np.number]) or exclude=[np.number] or np.object\n",
    "\n",
    "df[['Cars', 'Age', 'AIVTT', \n",
    "    'ACOST', 'TransUtil', \n",
    "    'TransPrice', 'Distance']].describe()"
   ]
  },
  {
   "cell_type": "markdown",
   "metadata": {},
   "source": [
    "### Vectorizing Data"
   ]
  },
  {
   "cell_type": "markdown",
   "metadata": {},
   "source": [
    "#### <div style=\"color:#983499\">Vectorizing response data (Observed Mode)</div>"
   ]
  },
  {
   "cell_type": "code",
   "execution_count": 21,
   "metadata": {},
   "outputs": [
    {
     "data": {
      "text/plain": [
       "(437183, 3)"
      ]
     },
     "execution_count": 21,
     "metadata": {},
     "output_type": "execute_result"
    }
   ],
   "source": [
    "from sklearn import preprocessing\n",
    "\n",
    "# encode labels with value between 0 and n_classes-1.\n",
    "# 1. INSTANTIATE\n",
    "le = preprocessing.LabelEncoder()\n",
    "# use df.apply() to apply le.fit_transform to all columns\n",
    "y = df[['ObservedMode']]\n",
    "y = y.apply(le.fit_transform)\n",
    "\n",
    "# one-hot encoder\n",
    "# 1. INSTANTIATE\n",
    "enc = preprocessing.OneHotEncoder()\n",
    "# 2. FIT\n",
    "enc.fit(y)\n",
    "# 3. Transform --> onehotlabels\n",
    "Y = enc.transform(y).toarray()\n",
    "Y.shape"
   ]
  },
  {
   "cell_type": "code",
   "execution_count": 22,
   "metadata": {},
   "outputs": [
    {
     "data": {
      "text/plain": [
       "'auto'"
      ]
     },
     "execution_count": 22,
     "metadata": {},
     "output_type": "execute_result"
    }
   ],
   "source": [
    "enc.n_values"
   ]
  },
  {
   "cell_type": "code",
   "execution_count": 23,
   "metadata": {},
   "outputs": [
    {
     "name": "stdout",
     "output_type": "stream",
     "text": [
      "[[ 0.  0.  1.]\n",
      " [ 0.  0.  1.]\n",
      " [ 0.  1.  0.]\n",
      " ..., \n",
      " [ 0.  0.  1.]\n",
      " [ 1.  0.  0.]\n",
      " [ 0.  0.  1.]]\n"
     ]
    }
   ],
   "source": [
    "print(Y)"
   ]
  },
  {
   "cell_type": "markdown",
   "metadata": {},
   "source": [
    "{0:'CW' , 1:'DM' , 2:'T'}"
   ]
  },
  {
   "cell_type": "markdown",
   "metadata": {},
   "source": [
    "#### <div style=\"color:#983499\">Vectorizing categorical input data</div>"
   ]
  },
  {
   "cell_type": "code",
   "execution_count": 24,
   "metadata": {},
   "outputs": [
    {
     "data": {
      "text/html": [
       "<div>\n",
       "<style>\n",
       "    .dataframe thead tr:only-child th {\n",
       "        text-align: right;\n",
       "    }\n",
       "\n",
       "    .dataframe thead th {\n",
       "        text-align: left;\n",
       "    }\n",
       "\n",
       "    .dataframe tbody tr th {\n",
       "        vertical-align: top;\n",
       "    }\n",
       "</style>\n",
       "<table border=\"1\" class=\"dataframe\">\n",
       "  <thead>\n",
       "    <tr style=\"text-align: right;\">\n",
       "      <th></th>\n",
       "      <th>PurposeOrigin</th>\n",
       "      <th>PurposeDestination</th>\n",
       "      <th>Cars</th>\n",
       "      <th>Age</th>\n",
       "      <th>DriverLicense</th>\n",
       "      <th>TransitPass</th>\n",
       "      <th>Sex</th>\n",
       "      <th>EmpStat</th>\n",
       "      <th>Occ</th>\n",
       "      <th>FreeParking</th>\n",
       "      <th>AIVTT</th>\n",
       "      <th>ACOST</th>\n",
       "      <th>TransUtil</th>\n",
       "      <th>TransPrice</th>\n",
       "      <th>Distance</th>\n",
       "    </tr>\n",
       "  </thead>\n",
       "  <tbody>\n",
       "    <tr>\n",
       "      <th>0</th>\n",
       "      <td>H</td>\n",
       "      <td>W</td>\n",
       "      <td>1</td>\n",
       "      <td>42</td>\n",
       "      <td>Y</td>\n",
       "      <td>M</td>\n",
       "      <td>M</td>\n",
       "      <td>F</td>\n",
       "      <td>P</td>\n",
       "      <td>N</td>\n",
       "      <td>22.963760</td>\n",
       "      <td>2.567012</td>\n",
       "      <td>143.03660</td>\n",
       "      <td>1.980000</td>\n",
       "      <td>16.777860</td>\n",
       "    </tr>\n",
       "    <tr>\n",
       "      <th>1</th>\n",
       "      <td>W</td>\n",
       "      <td>H</td>\n",
       "      <td>1</td>\n",
       "      <td>42</td>\n",
       "      <td>Y</td>\n",
       "      <td>M</td>\n",
       "      <td>M</td>\n",
       "      <td>F</td>\n",
       "      <td>P</td>\n",
       "      <td>N</td>\n",
       "      <td>19.327180</td>\n",
       "      <td>1.501283</td>\n",
       "      <td>89.97700</td>\n",
       "      <td>1.980000</td>\n",
       "      <td>9.812310</td>\n",
       "    </tr>\n",
       "    <tr>\n",
       "      <th>2</th>\n",
       "      <td>H</td>\n",
       "      <td>M</td>\n",
       "      <td>1</td>\n",
       "      <td>40</td>\n",
       "      <td>Y</td>\n",
       "      <td>N</td>\n",
       "      <td>F</td>\n",
       "      <td>O</td>\n",
       "      <td>O</td>\n",
       "      <td>O</td>\n",
       "      <td>5.467029</td>\n",
       "      <td>0.722114</td>\n",
       "      <td>98.64271</td>\n",
       "      <td>1.980000</td>\n",
       "      <td>4.719703</td>\n",
       "    </tr>\n",
       "    <tr>\n",
       "      <th>3</th>\n",
       "      <td>M</td>\n",
       "      <td>H</td>\n",
       "      <td>1</td>\n",
       "      <td>40</td>\n",
       "      <td>Y</td>\n",
       "      <td>N</td>\n",
       "      <td>F</td>\n",
       "      <td>O</td>\n",
       "      <td>O</td>\n",
       "      <td>O</td>\n",
       "      <td>4.094516</td>\n",
       "      <td>0.549011</td>\n",
       "      <td>75.52932</td>\n",
       "      <td>1.980000</td>\n",
       "      <td>3.588306</td>\n",
       "    </tr>\n",
       "    <tr>\n",
       "      <th>4</th>\n",
       "      <td>H</td>\n",
       "      <td>O</td>\n",
       "      <td>1</td>\n",
       "      <td>62</td>\n",
       "      <td>Y</td>\n",
       "      <td>N</td>\n",
       "      <td>M</td>\n",
       "      <td>O</td>\n",
       "      <td>O</td>\n",
       "      <td>O</td>\n",
       "      <td>6.147649</td>\n",
       "      <td>1.313678</td>\n",
       "      <td>103.15890</td>\n",
       "      <td>2.669254</td>\n",
       "      <td>8.586128</td>\n",
       "    </tr>\n",
       "  </tbody>\n",
       "</table>\n",
       "</div>"
      ],
      "text/plain": [
       "  PurposeOrigin PurposeDestination  Cars  Age DriverLicense TransitPass Sex  \\\n",
       "0             H                  W     1   42             Y           M   M   \n",
       "1             W                  H     1   42             Y           M   M   \n",
       "2             H                  M     1   40             Y           N   F   \n",
       "3             M                  H     1   40             Y           N   F   \n",
       "4             H                  O     1   62             Y           N   M   \n",
       "\n",
       "  EmpStat Occ FreeParking      AIVTT     ACOST  TransUtil  TransPrice  \\\n",
       "0       F   P           N  22.963760  2.567012  143.03660    1.980000   \n",
       "1       F   P           N  19.327180  1.501283   89.97700    1.980000   \n",
       "2       O   O           O   5.467029  0.722114   98.64271    1.980000   \n",
       "3       O   O           O   4.094516  0.549011   75.52932    1.980000   \n",
       "4       O   O           O   6.147649  1.313678  103.15890    2.669254   \n",
       "\n",
       "    Distance  \n",
       "0  16.777860  \n",
       "1   9.812310  \n",
       "2   4.719703  \n",
       "3   3.588306  \n",
       "4   8.586128  "
      ]
     },
     "execution_count": 24,
     "metadata": {},
     "output_type": "execute_result"
    }
   ],
   "source": [
    "X = df[['PurposeOrigin','PurposeDestination','Cars', 'Age',\n",
    "       'DriverLicense', 'TransitPass', 'Sex', 'EmpStat', 'Occ', 'FreeParking',\n",
    "       'AIVTT', 'ACOST', 'TransUtil', 'TransPrice', 'Distance']]\n",
    "X.head()"
   ]
  },
  {
   "cell_type": "code",
   "execution_count": 25,
   "metadata": {},
   "outputs": [],
   "source": [
    "X = df[['PurposeOrigin','PurposeDestination',\n",
    "       'DriverLicense', 'TransitPass', 'Sex', 'EmpStat', 'Occ', 'FreeParking']]\n",
    "x_le = X.apply(le.fit_transform)"
   ]
  },
  {
   "cell_type": "code",
   "execution_count": 26,
   "metadata": {},
   "outputs": [
    {
     "data": {
      "text/html": [
       "<div>\n",
       "<style>\n",
       "    .dataframe thead tr:only-child th {\n",
       "        text-align: right;\n",
       "    }\n",
       "\n",
       "    .dataframe thead th {\n",
       "        text-align: left;\n",
       "    }\n",
       "\n",
       "    .dataframe tbody tr th {\n",
       "        vertical-align: top;\n",
       "    }\n",
       "</style>\n",
       "<table border=\"1\" class=\"dataframe\">\n",
       "  <thead>\n",
       "    <tr style=\"text-align: right;\">\n",
       "      <th></th>\n",
       "      <th>PurposeOrigin</th>\n",
       "      <th>PurposeDestination</th>\n",
       "      <th>DriverLicense</th>\n",
       "      <th>TransitPass</th>\n",
       "      <th>Sex</th>\n",
       "      <th>EmpStat</th>\n",
       "      <th>Occ</th>\n",
       "      <th>FreeParking</th>\n",
       "    </tr>\n",
       "  </thead>\n",
       "  <tbody>\n",
       "    <tr>\n",
       "      <th>0</th>\n",
       "      <td>0</td>\n",
       "      <td>9</td>\n",
       "      <td>2</td>\n",
       "      <td>3</td>\n",
       "      <td>2</td>\n",
       "      <td>1</td>\n",
       "      <td>4</td>\n",
       "      <td>1</td>\n",
       "    </tr>\n",
       "    <tr>\n",
       "      <th>1</th>\n",
       "      <td>3</td>\n",
       "      <td>4</td>\n",
       "      <td>2</td>\n",
       "      <td>3</td>\n",
       "      <td>2</td>\n",
       "      <td>1</td>\n",
       "      <td>4</td>\n",
       "      <td>1</td>\n",
       "    </tr>\n",
       "    <tr>\n",
       "      <th>2</th>\n",
       "      <td>0</td>\n",
       "      <td>5</td>\n",
       "      <td>2</td>\n",
       "      <td>4</td>\n",
       "      <td>1</td>\n",
       "      <td>4</td>\n",
       "      <td>3</td>\n",
       "      <td>2</td>\n",
       "    </tr>\n",
       "    <tr>\n",
       "      <th>3</th>\n",
       "      <td>1</td>\n",
       "      <td>4</td>\n",
       "      <td>2</td>\n",
       "      <td>4</td>\n",
       "      <td>1</td>\n",
       "      <td>4</td>\n",
       "      <td>3</td>\n",
       "      <td>2</td>\n",
       "    </tr>\n",
       "    <tr>\n",
       "      <th>4</th>\n",
       "      <td>0</td>\n",
       "      <td>6</td>\n",
       "      <td>2</td>\n",
       "      <td>4</td>\n",
       "      <td>2</td>\n",
       "      <td>4</td>\n",
       "      <td>3</td>\n",
       "      <td>2</td>\n",
       "    </tr>\n",
       "  </tbody>\n",
       "</table>\n",
       "</div>"
      ],
      "text/plain": [
       "   PurposeOrigin  PurposeDestination  DriverLicense  TransitPass  Sex  \\\n",
       "0              0                   9              2            3    2   \n",
       "1              3                   4              2            3    2   \n",
       "2              0                   5              2            4    1   \n",
       "3              1                   4              2            4    1   \n",
       "4              0                   6              2            4    2   \n",
       "\n",
       "   EmpStat  Occ  FreeParking  \n",
       "0        1    4            1  \n",
       "1        1    4            1  \n",
       "2        4    3            2  \n",
       "3        4    3            2  \n",
       "4        4    3            2  "
      ]
     },
     "execution_count": 26,
     "metadata": {},
     "output_type": "execute_result"
    }
   ],
   "source": [
    "x_le.head()"
   ]
  },
  {
   "cell_type": "code",
   "execution_count": 27,
   "metadata": {},
   "outputs": [
    {
     "data": {
      "text/plain": [
       "(437183, 42)"
      ]
     },
     "execution_count": 27,
     "metadata": {},
     "output_type": "execute_result"
    }
   ],
   "source": [
    "# 1. INSTANTIATE\n",
    "enc = preprocessing.OneHotEncoder()\n",
    "\n",
    "# 2. FIT\n",
    "enc.fit(x_le)\n",
    "\n",
    "# 3. Transform\n",
    "X_enc = enc.transform(x_le).toarray()\n",
    "X_enc.shape\n",
    "# as you can see, you've the same number of rows 891\n",
    "# but now you've so many more columns due to how we changed all the categorical data into numerical data"
   ]
  },
  {
   "cell_type": "code",
   "execution_count": 28,
   "metadata": {},
   "outputs": [
    {
     "data": {
      "text/plain": [
       "array([[ 1.,  0.,  0., ...,  1.,  0.,  0.],\n",
       "       [ 0.,  0.,  0., ...,  1.,  0.,  0.],\n",
       "       [ 1.,  0.,  0., ...,  0.,  1.,  0.],\n",
       "       ..., \n",
       "       [ 0.,  0.,  0., ...,  1.,  0.,  0.],\n",
       "       [ 1.,  0.,  0., ...,  1.,  0.,  0.],\n",
       "       [ 0.,  0.,  1., ...,  1.,  0.,  0.]])"
      ]
     },
     "execution_count": 28,
     "metadata": {},
     "output_type": "execute_result"
    }
   ],
   "source": [
    "X_enc"
   ]
  },
  {
   "cell_type": "markdown",
   "metadata": {},
   "source": [
    "### Scaling numerical variables"
   ]
  },
  {
   "cell_type": "code",
   "execution_count": 29,
   "metadata": {},
   "outputs": [
    {
     "data": {
      "text/html": [
       "<div>\n",
       "<style>\n",
       "    .dataframe thead tr:only-child th {\n",
       "        text-align: right;\n",
       "    }\n",
       "\n",
       "    .dataframe thead th {\n",
       "        text-align: left;\n",
       "    }\n",
       "\n",
       "    .dataframe tbody tr th {\n",
       "        vertical-align: top;\n",
       "    }\n",
       "</style>\n",
       "<table border=\"1\" class=\"dataframe\">\n",
       "  <thead>\n",
       "    <tr style=\"text-align: right;\">\n",
       "      <th></th>\n",
       "      <th>0</th>\n",
       "      <th>1</th>\n",
       "      <th>2</th>\n",
       "      <th>3</th>\n",
       "      <th>4</th>\n",
       "      <th>5</th>\n",
       "      <th>6</th>\n",
       "    </tr>\n",
       "  </thead>\n",
       "  <tbody>\n",
       "    <tr>\n",
       "      <th>0</th>\n",
       "      <td>0.010101</td>\n",
       "      <td>0.352273</td>\n",
       "      <td>0.121405</td>\n",
       "      <td>0.054197</td>\n",
       "      <td>0.057373</td>\n",
       "      <td>0.001980</td>\n",
       "      <td>0.054197</td>\n",
       "    </tr>\n",
       "    <tr>\n",
       "      <th>1</th>\n",
       "      <td>0.010101</td>\n",
       "      <td>0.352273</td>\n",
       "      <td>0.102179</td>\n",
       "      <td>0.031696</td>\n",
       "      <td>0.036091</td>\n",
       "      <td>0.001980</td>\n",
       "      <td>0.031696</td>\n",
       "    </tr>\n",
       "    <tr>\n",
       "      <th>2</th>\n",
       "      <td>0.010101</td>\n",
       "      <td>0.329545</td>\n",
       "      <td>0.028903</td>\n",
       "      <td>0.015246</td>\n",
       "      <td>0.039567</td>\n",
       "      <td>0.001980</td>\n",
       "      <td>0.015246</td>\n",
       "    </tr>\n",
       "    <tr>\n",
       "      <th>3</th>\n",
       "      <td>0.010101</td>\n",
       "      <td>0.329545</td>\n",
       "      <td>0.021647</td>\n",
       "      <td>0.011591</td>\n",
       "      <td>0.030296</td>\n",
       "      <td>0.001980</td>\n",
       "      <td>0.011591</td>\n",
       "    </tr>\n",
       "    <tr>\n",
       "      <th>4</th>\n",
       "      <td>0.010101</td>\n",
       "      <td>0.579545</td>\n",
       "      <td>0.032501</td>\n",
       "      <td>0.027735</td>\n",
       "      <td>0.041378</td>\n",
       "      <td>0.002669</td>\n",
       "      <td>0.027735</td>\n",
       "    </tr>\n",
       "  </tbody>\n",
       "</table>\n",
       "</div>"
      ],
      "text/plain": [
       "          0         1         2         3         4         5         6\n",
       "0  0.010101  0.352273  0.121405  0.054197  0.057373  0.001980  0.054197\n",
       "1  0.010101  0.352273  0.102179  0.031696  0.036091  0.001980  0.031696\n",
       "2  0.010101  0.329545  0.028903  0.015246  0.039567  0.001980  0.015246\n",
       "3  0.010101  0.329545  0.021647  0.011591  0.030296  0.001980  0.011591\n",
       "4  0.010101  0.579545  0.032501  0.027735  0.041378  0.002669  0.027735"
      ]
     },
     "execution_count": 29,
     "metadata": {},
     "output_type": "execute_result"
    }
   ],
   "source": [
    "# scaling numerical input data\n",
    "# http://scikit-learn.org/stable/auto_examples/preprocessing/plot_all_scaling.html#sphx-glr-auto-examples-preprocessing-plot-all-scaling-py\n",
    "X2 = df[['Cars', 'Age', 'AIVTT', 'ACOST', 'TransUtil', 'TransPrice', 'Distance']]\n",
    "\n",
    "# from sklearn.preprocessing import scale\n",
    "# X2 = scale(X2.values)\n",
    "\n",
    "from sklearn.preprocessing import MinMaxScaler\n",
    "scaler = MinMaxScaler()\n",
    "scaled_df = scaler.fit_transform(X2)\n",
    "X2 = pd.DataFrame(scaled_df)\n",
    "\n",
    "# from sklearn.preprocessing import minmax_scale\n",
    "# from sklearn.preprocessing import MaxAbsScaler\n",
    "# from sklearn.preprocessing import StandardScaler\n",
    "# from sklearn.preprocessing import RobustScaler\n",
    "# from sklearn.preprocessing import Normalizer\n",
    "# from sklearn.preprocessing.data import QuantileTransformer\n",
    "\n",
    "X2.head()"
   ]
  },
  {
   "cell_type": "code",
   "execution_count": 30,
   "metadata": {},
   "outputs": [
    {
     "data": {
      "text/plain": [
       "(437183, 7)"
      ]
     },
     "execution_count": 30,
     "metadata": {},
     "output_type": "execute_result"
    }
   ],
   "source": [
    "X2.shape"
   ]
  },
  {
   "cell_type": "code",
   "execution_count": 31,
   "metadata": {},
   "outputs": [
    {
     "data": {
      "text/plain": [
       "(437183, 49)"
      ]
     },
     "execution_count": 31,
     "metadata": {},
     "output_type": "execute_result"
    }
   ],
   "source": [
    "# Concatinating the encoded categorical features with the numerical features\n",
    "X = np.concatenate((X_enc, X2),axis=1)\n",
    "X.shape"
   ]
  },
  {
   "cell_type": "markdown",
   "metadata": {},
   "source": [
    "### Splitting data into train and test"
   ]
  },
  {
   "cell_type": "code",
   "execution_count": 32,
   "metadata": {},
   "outputs": [],
   "source": [
    "from sklearn.model_selection import train_test_split\n",
    "x_train, x_test, y_train, y_test = train_test_split(X, Y, test_size = 0.3, random_state=0)"
   ]
  },
  {
   "cell_type": "markdown",
   "metadata": {},
   "source": [
    "## Network Topology"
   ]
  },
  {
   "cell_type": "markdown",
   "metadata": {},
   "source": [
    "One input layer - 49 features (~ , 49) <br>\n",
    "Three hidden layers - each 256 neurons (49, 256) (256, 256) (256, 5) <br>\n",
    "One output layer - 5 neurons for 5 types of modes (5, ~) "
   ]
  },
  {
   "cell_type": "markdown",
   "metadata": {},
   "source": [
    "### Building model"
   ]
  },
  {
   "cell_type": "code",
   "execution_count": 33,
   "metadata": {},
   "outputs": [],
   "source": [
    "num_classes = 3 # number of transportation modes to be predicted in the model\n",
    "# {0:'CW' , 1:'DM' , 2:'T'}\n",
    "\n",
    "# note: using Dropout between layers to Prevent Neural Networks from Overfitting\n",
    "# Dropout is a technique where randomly selected neurons are ignored during training. \n",
    "model = Sequential()\n",
    "model.add(Dense(256, activation='relu', input_dim=49))\n",
    "model.add(Dropout(0.2))\n",
    "model.add(Dense(256, activation='relu'))\n",
    "model.add(Dropout(0.2))\n",
    "model.add(Dense(256, activation='relu'))\n",
    "model.add(Dropout(0.2))\n",
    "model.add(Dense(256, activation='relu'))\n",
    "model.add(Dropout(0.2))\n",
    "model.add(Dense(256, activation='relu'))\n",
    "model.add(Dropout(0.2))\n",
    "model.add(Dense(256, activation='relu'))\n",
    "model.add(Dropout(0.2))\n",
    "model.add(Dense(256, activation='relu'))\n",
    "model.add(Dropout(0.2))\n",
    "model.add(Dense(256, activation='relu'))\n",
    "model.add(Dropout(0.2))\n",
    "model.add(Dense(256, activation='relu'))\n",
    "model.add(Dropout(0.2))\n",
    "model.add(Dense(num_classes, activation='softmax'))"
   ]
  },
  {
   "cell_type": "code",
   "execution_count": 34,
   "metadata": {
    "scrolled": true
   },
   "outputs": [
    {
     "name": "stdout",
     "output_type": "stream",
     "text": [
      "Train on 306028 samples, validate on 131155 samples\n",
      "Epoch 1/100\n",
      "26s - loss: 0.3329 - acc: 0.8903 - val_loss: 0.2746 - val_acc: 0.9100\n",
      "Epoch 2/100\n",
      "24s - loss: 0.2720 - acc: 0.9101 - val_loss: 0.2473 - val_acc: 0.9155\n",
      "Epoch 3/100\n",
      "25s - loss: 0.2520 - acc: 0.9152 - val_loss: 0.2370 - val_acc: 0.9207\n",
      "Epoch 4/100\n",
      "26s - loss: 0.2397 - acc: 0.9192 - val_loss: 0.2238 - val_acc: 0.9232\n",
      "Epoch 5/100\n",
      "25s - loss: 0.2328 - acc: 0.9217 - val_loss: 0.2227 - val_acc: 0.9239\n",
      "Epoch 6/100\n",
      "26s - loss: 0.2284 - acc: 0.9233 - val_loss: 0.2201 - val_acc: 0.9257\n",
      "Epoch 7/100\n",
      "26s - loss: 0.2270 - acc: 0.9237 - val_loss: 0.2260 - val_acc: 0.9272\n",
      "Epoch 8/100\n",
      "25s - loss: 0.2240 - acc: 0.9248 - val_loss: 0.2182 - val_acc: 0.9266\n",
      "Epoch 9/100\n",
      "25s - loss: 0.2222 - acc: 0.9253 - val_loss: 0.2174 - val_acc: 0.9272\n",
      "Epoch 10/100\n",
      "26s - loss: 0.2210 - acc: 0.9260 - val_loss: 0.2133 - val_acc: 0.9276\n",
      "Epoch 11/100\n",
      "25s - loss: 0.2184 - acc: 0.9267 - val_loss: 0.2145 - val_acc: 0.9270\n",
      "Epoch 12/100\n",
      "25s - loss: 0.2174 - acc: 0.9276 - val_loss: 0.2124 - val_acc: 0.9279\n",
      "Epoch 13/100\n",
      "25s - loss: 0.2178 - acc: 0.9273 - val_loss: 0.2151 - val_acc: 0.9282\n",
      "Epoch 14/100\n",
      "25s - loss: 0.2156 - acc: 0.9273 - val_loss: 0.2164 - val_acc: 0.9271\n",
      "Epoch 15/100\n",
      "25s - loss: 0.2153 - acc: 0.9275 - val_loss: 0.2107 - val_acc: 0.9279\n",
      "Epoch 16/100\n",
      "25s - loss: 0.2130 - acc: 0.9284 - val_loss: 0.2093 - val_acc: 0.9277\n",
      "Epoch 17/100\n",
      "25s - loss: 0.2135 - acc: 0.9279 - val_loss: 0.2096 - val_acc: 0.9284\n",
      "Epoch 18/100\n",
      "25s - loss: 0.2120 - acc: 0.9281 - val_loss: 0.2073 - val_acc: 0.9294\n",
      "Epoch 19/100\n",
      "25s - loss: 0.2106 - acc: 0.9285 - val_loss: 0.2083 - val_acc: 0.9284\n",
      "Epoch 20/100\n",
      "26s - loss: 0.2098 - acc: 0.9286 - val_loss: 0.2152 - val_acc: 0.9252\n",
      "Epoch 21/100\n",
      "26s - loss: 0.2109 - acc: 0.9283 - val_loss: 0.2083 - val_acc: 0.9285\n",
      "Epoch 22/100\n",
      "26s - loss: 0.2089 - acc: 0.9286 - val_loss: 0.2052 - val_acc: 0.9296\n",
      "Epoch 23/100\n",
      "25s - loss: 0.2088 - acc: 0.9291 - val_loss: 0.2072 - val_acc: 0.9284\n",
      "Epoch 24/100\n",
      "25s - loss: 0.2078 - acc: 0.9292 - val_loss: 0.2079 - val_acc: 0.9282\n",
      "Epoch 25/100\n",
      "25s - loss: 0.2075 - acc: 0.9294 - val_loss: 0.2067 - val_acc: 0.9294\n",
      "Epoch 26/100\n",
      "25s - loss: 0.2081 - acc: 0.9288 - val_loss: 0.2124 - val_acc: 0.9280\n",
      "Epoch 27/100\n",
      "25s - loss: 0.2071 - acc: 0.9296 - val_loss: 0.2064 - val_acc: 0.9292\n",
      "Epoch 28/100\n",
      "25s - loss: 0.2073 - acc: 0.9291 - val_loss: 0.2072 - val_acc: 0.9294\n",
      "Epoch 29/100\n",
      "25s - loss: 0.2064 - acc: 0.9293 - val_loss: 0.2067 - val_acc: 0.9295\n",
      "Epoch 30/100\n",
      "25s - loss: 0.2066 - acc: 0.9296 - val_loss: 0.2098 - val_acc: 0.9284\n",
      "Epoch 31/100\n",
      "25s - loss: 0.2062 - acc: 0.9298 - val_loss: 0.2062 - val_acc: 0.9298\n",
      "Epoch 32/100\n",
      "25s - loss: 0.2057 - acc: 0.9302 - val_loss: 0.2047 - val_acc: 0.9295\n",
      "Epoch 33/100\n",
      "25s - loss: 0.2057 - acc: 0.9296 - val_loss: 0.2074 - val_acc: 0.9279\n",
      "Epoch 34/100\n",
      "25s - loss: 0.2045 - acc: 0.9304 - val_loss: 0.2066 - val_acc: 0.9290\n",
      "Epoch 35/100\n",
      "25s - loss: 0.2046 - acc: 0.9302 - val_loss: 0.2129 - val_acc: 0.9268\n",
      "Epoch 36/100\n",
      "25s - loss: 0.2041 - acc: 0.9303 - val_loss: 0.2049 - val_acc: 0.9289\n",
      "Epoch 37/100\n",
      "25s - loss: 0.2044 - acc: 0.9300 - val_loss: 0.2064 - val_acc: 0.9285\n",
      "Epoch 38/100\n",
      "25s - loss: 0.2035 - acc: 0.9306 - val_loss: 0.2038 - val_acc: 0.9298\n",
      "Epoch 39/100\n",
      "25s - loss: 0.2029 - acc: 0.9306 - val_loss: 0.2051 - val_acc: 0.9297\n",
      "Epoch 40/100\n",
      "25s - loss: 0.2031 - acc: 0.9303 - val_loss: 0.2066 - val_acc: 0.9287\n",
      "Epoch 41/100\n",
      "25s - loss: 0.2034 - acc: 0.9304 - val_loss: 0.2047 - val_acc: 0.9301\n",
      "Epoch 42/100\n",
      "25s - loss: 0.2024 - acc: 0.9305 - val_loss: 0.2120 - val_acc: 0.9272\n",
      "Epoch 43/100\n",
      "25s - loss: 0.2031 - acc: 0.9305 - val_loss: 0.2031 - val_acc: 0.9304\n",
      "Epoch 44/100\n",
      "25s - loss: 0.2018 - acc: 0.9307 - val_loss: 0.2023 - val_acc: 0.9303\n",
      "Epoch 45/100\n",
      "25s - loss: 0.2009 - acc: 0.9308 - val_loss: 0.2036 - val_acc: 0.9304\n",
      "Epoch 46/100\n",
      "25s - loss: 0.2019 - acc: 0.9308 - val_loss: 0.2042 - val_acc: 0.9297\n",
      "Epoch 47/100\n",
      "25s - loss: 0.2011 - acc: 0.9308 - val_loss: 0.2059 - val_acc: 0.9294\n",
      "Epoch 48/100\n",
      "25s - loss: 0.2010 - acc: 0.9308 - val_loss: 0.2036 - val_acc: 0.9296\n",
      "Epoch 49/100\n",
      "25s - loss: 0.2011 - acc: 0.9309 - val_loss: 0.2039 - val_acc: 0.9298\n",
      "Epoch 50/100\n",
      "25s - loss: 0.2012 - acc: 0.9312 - val_loss: 0.2036 - val_acc: 0.9293\n",
      "Epoch 51/100\n",
      "25s - loss: 0.2007 - acc: 0.9311 - val_loss: 0.2040 - val_acc: 0.9296\n",
      "Epoch 52/100\n",
      "25s - loss: 0.2009 - acc: 0.9310 - val_loss: 0.2078 - val_acc: 0.9289\n",
      "Epoch 53/100\n",
      "25s - loss: 0.2003 - acc: 0.9311 - val_loss: 0.2218 - val_acc: 0.9272\n",
      "Epoch 54/100\n",
      "25s - loss: 0.2017 - acc: 0.9308 - val_loss: 0.2024 - val_acc: 0.9304\n",
      "Epoch 55/100\n",
      "25s - loss: 0.1998 - acc: 0.9315 - val_loss: 0.2039 - val_acc: 0.9297\n",
      "Epoch 56/100\n",
      "25s - loss: 0.1994 - acc: 0.9314 - val_loss: 0.2049 - val_acc: 0.9288\n",
      "Epoch 57/100\n",
      "25s - loss: 0.1990 - acc: 0.9315 - val_loss: 0.2034 - val_acc: 0.9301\n",
      "Epoch 58/100\n",
      "25s - loss: 0.2000 - acc: 0.9316 - val_loss: 0.2041 - val_acc: 0.9301\n",
      "Epoch 59/100\n",
      "25s - loss: 0.1999 - acc: 0.9314 - val_loss: 0.2047 - val_acc: 0.9297\n",
      "Epoch 60/100\n",
      "25s - loss: 0.2009 - acc: 0.9310 - val_loss: 0.2023 - val_acc: 0.9304\n",
      "Epoch 61/100\n",
      "25s - loss: 0.1997 - acc: 0.9313 - val_loss: 0.2040 - val_acc: 0.9299\n",
      "Epoch 62/100\n",
      "25s - loss: 0.1989 - acc: 0.9314 - val_loss: 0.2060 - val_acc: 0.9298\n",
      "Epoch 63/100\n",
      "25s - loss: 0.1985 - acc: 0.9313 - val_loss: 0.2021 - val_acc: 0.9306\n",
      "Epoch 64/100\n",
      "24s - loss: 0.1990 - acc: 0.9315 - val_loss: 0.2051 - val_acc: 0.9288\n",
      "Epoch 65/100\n",
      "24s - loss: 0.1978 - acc: 0.9317 - val_loss: 0.2028 - val_acc: 0.9302\n",
      "Epoch 66/100\n",
      "24s - loss: 0.1985 - acc: 0.9317 - val_loss: 0.2038 - val_acc: 0.9296\n",
      "Epoch 67/100\n",
      "24s - loss: 0.1989 - acc: 0.9310 - val_loss: 0.2038 - val_acc: 0.9300\n",
      "Epoch 68/100\n",
      "24s - loss: 0.1988 - acc: 0.9317 - val_loss: 0.2033 - val_acc: 0.9295\n",
      "Epoch 69/100\n",
      "24s - loss: 0.1988 - acc: 0.9313 - val_loss: 0.2021 - val_acc: 0.9294\n",
      "Epoch 70/100\n",
      "24s - loss: 0.1982 - acc: 0.9315 - val_loss: 0.2023 - val_acc: 0.9297\n",
      "Epoch 71/100\n",
      "24s - loss: 0.1982 - acc: 0.9318 - val_loss: 0.2029 - val_acc: 0.9296\n",
      "Epoch 72/100\n",
      "24s - loss: 0.1984 - acc: 0.9317 - val_loss: 0.2029 - val_acc: 0.9303\n",
      "Epoch 73/100\n",
      "24s - loss: 0.1983 - acc: 0.9318 - val_loss: 0.2033 - val_acc: 0.9290\n",
      "Epoch 74/100\n",
      "24s - loss: 0.1994 - acc: 0.9313 - val_loss: 0.2047 - val_acc: 0.9300\n",
      "Epoch 75/100\n",
      "24s - loss: 0.1978 - acc: 0.9318 - val_loss: 0.2021 - val_acc: 0.9300\n",
      "Epoch 76/100\n",
      "24s - loss: 0.1983 - acc: 0.9315 - val_loss: 0.2058 - val_acc: 0.9293\n",
      "Epoch 77/100\n",
      "24s - loss: 0.1984 - acc: 0.9319 - val_loss: 0.2047 - val_acc: 0.9297\n",
      "Epoch 78/100\n",
      "24s - loss: 0.1981 - acc: 0.9315 - val_loss: 0.2029 - val_acc: 0.9303\n",
      "Epoch 79/100\n",
      "24s - loss: 0.1983 - acc: 0.9315 - val_loss: 0.2055 - val_acc: 0.9288\n",
      "Epoch 80/100\n",
      "24s - loss: 0.1998 - acc: 0.9313 - val_loss: 0.2033 - val_acc: 0.9299\n",
      "Epoch 81/100\n",
      "24s - loss: 0.1982 - acc: 0.9318 - val_loss: 0.2032 - val_acc: 0.9300\n",
      "Epoch 82/100\n",
      "24s - loss: 0.2001 - acc: 0.9309 - val_loss: 0.2068 - val_acc: 0.9300\n",
      "Epoch 83/100\n",
      "24s - loss: 0.1984 - acc: 0.9319 - val_loss: 0.2030 - val_acc: 0.9298\n",
      "Epoch 84/100\n",
      "25s - loss: 0.1979 - acc: 0.9320 - val_loss: 0.2033 - val_acc: 0.9294\n",
      "Epoch 85/100\n",
      "25s - loss: 0.1971 - acc: 0.9319 - val_loss: 0.2012 - val_acc: 0.9296\n",
      "Epoch 86/100\n",
      "25s - loss: 0.1964 - acc: 0.9319 - val_loss: 0.2020 - val_acc: 0.9306\n",
      "Epoch 87/100\n",
      "25s - loss: 0.1969 - acc: 0.9326 - val_loss: 0.2045 - val_acc: 0.9294\n",
      "Epoch 88/100\n",
      "25s - loss: 0.1966 - acc: 0.9325 - val_loss: 0.2038 - val_acc: 0.9300\n",
      "Epoch 89/100\n",
      "24s - loss: 0.1993 - acc: 0.9314 - val_loss: 0.2025 - val_acc: 0.9297\n",
      "Epoch 90/100\n",
      "24s - loss: 0.1975 - acc: 0.9317 - val_loss: 0.2029 - val_acc: 0.9300\n",
      "Epoch 91/100\n",
      "26s - loss: 0.1988 - acc: 0.9315 - val_loss: 0.2042 - val_acc: 0.9294\n",
      "Epoch 92/100\n",
      "26s - loss: 0.1976 - acc: 0.9319 - val_loss: 0.2039 - val_acc: 0.9298\n",
      "Epoch 93/100\n",
      "24s - loss: 0.1971 - acc: 0.9320 - val_loss: 0.2036 - val_acc: 0.9301\n",
      "Epoch 94/100\n",
      "24s - loss: 0.2063 - acc: 0.9311 - val_loss: 0.2116 - val_acc: 0.9285\n",
      "Epoch 95/100\n",
      "24s - loss: 0.2085 - acc: 0.9305 - val_loss: 0.2051 - val_acc: 0.9296\n",
      "Epoch 96/100\n",
      "24s - loss: 0.2001 - acc: 0.9317 - val_loss: 0.2026 - val_acc: 0.9298\n",
      "Epoch 97/100\n",
      "24s - loss: 0.1982 - acc: 0.9321 - val_loss: 0.2051 - val_acc: 0.9297\n",
      "Epoch 98/100\n",
      "24s - loss: 0.2018 - acc: 0.9318 - val_loss: 0.2034 - val_acc: 0.9303\n",
      "Epoch 99/100\n",
      "24s - loss: 0.2000 - acc: 0.9319 - val_loss: 0.2037 - val_acc: 0.9303\n",
      "Epoch 100/100\n"
     ]
    },
    {
     "name": "stdout",
     "output_type": "stream",
     "text": [
      "25s - loss: 0.1986 - acc: 0.9322 - val_loss: 0.2032 - val_acc: 0.9301\n"
     ]
    }
   ],
   "source": [
    "model.compile(loss='categorical_crossentropy', optimizer='adam', metrics=['accuracy'])\n",
    "model_fitted = model.fit(x_train, y_train, batch_size=500, epochs=100, validation_data=[x_test, y_test], verbose=2, shuffle=True)"
   ]
  },
  {
   "cell_type": "markdown",
   "metadata": {},
   "source": [
    "## Model Summery"
   ]
  },
  {
   "cell_type": "code",
   "execution_count": 35,
   "metadata": {},
   "outputs": [
    {
     "name": "stdout",
     "output_type": "stream",
     "text": [
      "_________________________________________________________________\n",
      "Layer (type)                 Output Shape              Param #   \n",
      "=================================================================\n",
      "dense_10 (Dense)             (None, 256)               12800     \n",
      "_________________________________________________________________\n",
      "dropout_8 (Dropout)          (None, 256)               0         \n",
      "_________________________________________________________________\n",
      "dense_11 (Dense)             (None, 256)               65792     \n",
      "_________________________________________________________________\n",
      "dropout_9 (Dropout)          (None, 256)               0         \n",
      "_________________________________________________________________\n",
      "dense_12 (Dense)             (None, 256)               65792     \n",
      "_________________________________________________________________\n",
      "dropout_10 (Dropout)         (None, 256)               0         \n",
      "_________________________________________________________________\n",
      "dense_13 (Dense)             (None, 256)               65792     \n",
      "_________________________________________________________________\n",
      "dropout_11 (Dropout)         (None, 256)               0         \n",
      "_________________________________________________________________\n",
      "dense_14 (Dense)             (None, 256)               65792     \n",
      "_________________________________________________________________\n",
      "dropout_12 (Dropout)         (None, 256)               0         \n",
      "_________________________________________________________________\n",
      "dense_15 (Dense)             (None, 256)               65792     \n",
      "_________________________________________________________________\n",
      "dropout_13 (Dropout)         (None, 256)               0         \n",
      "_________________________________________________________________\n",
      "dense_16 (Dense)             (None, 256)               65792     \n",
      "_________________________________________________________________\n",
      "dropout_14 (Dropout)         (None, 256)               0         \n",
      "_________________________________________________________________\n",
      "dense_17 (Dense)             (None, 256)               65792     \n",
      "_________________________________________________________________\n",
      "dropout_15 (Dropout)         (None, 256)               0         \n",
      "_________________________________________________________________\n",
      "dense_18 (Dense)             (None, 256)               65792     \n",
      "_________________________________________________________________\n",
      "dropout_16 (Dropout)         (None, 256)               0         \n",
      "_________________________________________________________________\n",
      "dense_19 (Dense)             (None, 3)                 771       \n",
      "=================================================================\n",
      "Total params: 539,907\n",
      "Trainable params: 539,907\n",
      "Non-trainable params: 0\n",
      "_________________________________________________________________\n",
      "dict_keys(['val_loss', 'val_acc', 'loss', 'acc'])\n"
     ]
    }
   ],
   "source": [
    "model.summary()\n",
    "print(model_fitted.history.keys())"
   ]
  },
  {
   "cell_type": "markdown",
   "metadata": {},
   "source": [
    "## Model Validation"
   ]
  },
  {
   "cell_type": "markdown",
   "metadata": {},
   "source": [
    "### Plot Loss vs epoch"
   ]
  },
  {
   "cell_type": "code",
   "execution_count": 36,
   "metadata": {
    "scrolled": false
   },
   "outputs": [
    {
     "data": {
      "image/png": "[encoded data removed]",
      "text/plain": [
       "<matplotlib.figure.Figure at 0x1c0466d5748>"
      ]
     },
     "metadata": {},
     "output_type": "display_data"
    }
   ],
   "source": [
    "plt.figure(figsize=(14, 8))\n",
    "plt.plot(model_fitted.history['loss'], color = \"green\")\n",
    "plt.plot(model_fitted.history['val_loss'], color = \"red\")\n",
    "plt.title('Model Loss')\n",
    "plt.ylabel('loss')\n",
    "plt.xlabel('epoch')\n",
    "plt.legend(['train loss', 'validation loss'], loc='upper right')\n",
    "plt.show()"
   ]
  },
  {
   "cell_type": "markdown",
   "metadata": {},
   "source": [
    "### Plot Accuracy vs. epoch"
   ]
  },
  {
   "cell_type": "code",
   "execution_count": 37,
   "metadata": {},
   "outputs": [
    {
     "data": {
      "image/png": "[encoded data removed]",
      "text/plain": [
       "<matplotlib.figure.Figure at 0x1c0466d57b8>"
      ]
     },
     "metadata": {},
     "output_type": "display_data"
    }
   ],
   "source": [
    "plt.figure(figsize=(14, 8))\n",
    "plt.plot(model_fitted.history['acc'], color = \"green\")\n",
    "plt.plot(model_fitted.history['val_acc'], color = \"red\")\n",
    "plt.title('Model Accuracy')\n",
    "plt.ylabel('accuracy')\n",
    "plt.xlabel('epoch')\n",
    "plt.legend(['train accuracy', 'validation accuracy'], loc='lower right')\n",
    "plt.show()"
   ]
  },
  {
   "cell_type": "markdown",
   "metadata": {},
   "source": [
    "## Predict training data set"
   ]
  },
  {
   "cell_type": "code",
   "execution_count": 38,
   "metadata": {},
   "outputs": [],
   "source": [
    "predict_train = model.predict(x_train)"
   ]
  },
  {
   "cell_type": "code",
   "execution_count": 39,
   "metadata": {},
   "outputs": [
    {
     "name": "stdout",
     "output_type": "stream",
     "text": [
      "[[  1.52106595e-03   9.96708870e-01   1.77005446e-03]\n",
      " [  2.51227021e-02   3.59143269e-05   9.74841416e-01]\n",
      " [  1.46226445e-02   9.75875497e-01   9.50189680e-03]\n",
      " ..., \n",
      " [  2.67864931e-02   9.45010424e-01   2.82030459e-02]\n",
      " [  3.62066060e-01   4.28468120e-05   6.37891054e-01]\n",
      " [  1.32478187e-02   9.76175487e-01   1.05766775e-02]]\n"
     ]
    }
   ],
   "source": [
    "print(predict_train)"
   ]
  },
  {
   "cell_type": "code",
   "execution_count": 40,
   "metadata": {},
   "outputs": [
    {
     "data": {
      "text/html": [
       "<div>\n",
       "<style>\n",
       "    .dataframe thead tr:only-child th {\n",
       "        text-align: right;\n",
       "    }\n",
       "\n",
       "    .dataframe thead th {\n",
       "        text-align: left;\n",
       "    }\n",
       "\n",
       "    .dataframe tbody tr th {\n",
       "        vertical-align: top;\n",
       "    }\n",
       "</style>\n",
       "<table border=\"1\" class=\"dataframe\">\n",
       "  <thead>\n",
       "    <tr style=\"text-align: right;\">\n",
       "      <th></th>\n",
       "      <th>modeChoice_observed</th>\n",
       "      <th>modeChoice_predicted</th>\n",
       "    </tr>\n",
       "  </thead>\n",
       "  <tbody>\n",
       "    <tr>\n",
       "      <th>0</th>\n",
       "      <td>DM</td>\n",
       "      <td>DM</td>\n",
       "    </tr>\n",
       "    <tr>\n",
       "      <th>1</th>\n",
       "      <td>T</td>\n",
       "      <td>T</td>\n",
       "    </tr>\n",
       "    <tr>\n",
       "      <th>2</th>\n",
       "      <td>DM</td>\n",
       "      <td>DM</td>\n",
       "    </tr>\n",
       "    <tr>\n",
       "      <th>3</th>\n",
       "      <td>DM</td>\n",
       "      <td>DM</td>\n",
       "    </tr>\n",
       "    <tr>\n",
       "      <th>4</th>\n",
       "      <td>DM</td>\n",
       "      <td>DM</td>\n",
       "    </tr>\n",
       "  </tbody>\n",
       "</table>\n",
       "</div>"
      ],
      "text/plain": [
       "  modeChoice_observed modeChoice_predicted\n",
       "0                  DM                   DM\n",
       "1                   T                    T\n",
       "2                  DM                   DM\n",
       "3                  DM                   DM\n",
       "4                  DM                   DM"
      ]
     },
     "execution_count": 40,
     "metadata": {},
     "output_type": "execute_result"
    }
   ],
   "source": [
    "Mode_cat = {0:'CW' , 1:'DM' , 2:'T'}\n",
    "y_train_df = []\n",
    "modeChoice_observed = []\n",
    "modeChoice_predicted = []\n",
    "\n",
    "for i in range (0, predict_train.shape[0]):\n",
    "    modeChoice_predicted.append(Mode_cat[np.argmax(predict_train[i])])\n",
    "    modeChoice_observed.append(Mode_cat[np.argmax(y_train[i])])\n",
    "\n",
    "y_train_df = pd.DataFrame({'modeChoice_observed':modeChoice_observed,\n",
    "              'modeChoice_predicted':modeChoice_predicted})    \n",
    "y_train_df.head()"
   ]
  },
  {
   "cell_type": "markdown",
   "metadata": {},
   "source": [
    "### Accuracy assessment"
   ]
  },
  {
   "cell_type": "code",
   "execution_count": 41,
   "metadata": {},
   "outputs": [
    {
     "name": "stdout",
     "output_type": "stream",
     "text": [
      "Model Accuracy: 93.58%\n"
     ]
    }
   ],
   "source": [
    "# summarize performance of the model\n",
    "scores = model.evaluate(x_train,y_train, verbose=2)\n",
    "print(\"Model Accuracy: %.2f%%\" % (scores[1]*100))"
   ]
  },
  {
   "cell_type": "markdown",
   "metadata": {},
   "source": [
    "The overall accuracy of the model on the training and the validation dataset is 93.77%"
   ]
  },
  {
   "cell_type": "code",
   "execution_count": 42,
   "metadata": {},
   "outputs": [
    {
     "data": {
      "text/html": [
       "<div>\n",
       "<style>\n",
       "    .dataframe thead tr:only-child th {\n",
       "        text-align: right;\n",
       "    }\n",
       "\n",
       "    .dataframe thead th {\n",
       "        text-align: left;\n",
       "    }\n",
       "\n",
       "    .dataframe tbody tr th {\n",
       "        vertical-align: top;\n",
       "    }\n",
       "</style>\n",
       "<table border=\"1\" class=\"dataframe\">\n",
       "  <thead>\n",
       "    <tr style=\"text-align: right;\">\n",
       "      <th>modeChoice_predicted</th>\n",
       "      <th>CW</th>\n",
       "      <th>DM</th>\n",
       "      <th>T</th>\n",
       "    </tr>\n",
       "    <tr>\n",
       "      <th>modeChoice_observed</th>\n",
       "      <th></th>\n",
       "      <th></th>\n",
       "      <th></th>\n",
       "    </tr>\n",
       "  </thead>\n",
       "  <tbody>\n",
       "    <tr>\n",
       "      <th>CW</th>\n",
       "      <td>10654</td>\n",
       "      <td>4140</td>\n",
       "      <td>2664</td>\n",
       "    </tr>\n",
       "    <tr>\n",
       "      <th>DM</th>\n",
       "      <td>518</td>\n",
       "      <td>242022</td>\n",
       "      <td>2201</td>\n",
       "    </tr>\n",
       "    <tr>\n",
       "      <th>T</th>\n",
       "      <td>2305</td>\n",
       "      <td>7831</td>\n",
       "      <td>33693</td>\n",
       "    </tr>\n",
       "  </tbody>\n",
       "</table>\n",
       "</div>"
      ],
      "text/plain": [
       "modeChoice_predicted     CW      DM      T\n",
       "modeChoice_observed                       \n",
       "CW                    10654    4140   2664\n",
       "DM                      518  242022   2201\n",
       "T                      2305    7831  33693"
      ]
     },
     "execution_count": 42,
     "metadata": {},
     "output_type": "execute_result"
    }
   ],
   "source": [
    "pd.crosstab(y_train_df['modeChoice_observed'], y_train_df['modeChoice_predicted'])"
   ]
  },
  {
   "cell_type": "markdown",
   "metadata": {},
   "source": [
    "## Predict testing data set"
   ]
  },
  {
   "cell_type": "code",
   "execution_count": 45,
   "metadata": {
    "collapsed": true
   },
   "outputs": [],
   "source": [
    "predict_test = model.predict(x_test)"
   ]
  },
  {
   "cell_type": "code",
   "execution_count": 46,
   "metadata": {},
   "outputs": [
    {
     "data": {
      "text/plain": [
       "array([[  8.95798087e-01,   5.13536343e-03,   9.90664586e-02],\n",
       "       [  2.20217230e-03,   9.74515259e-01,   2.32825782e-02],\n",
       "       [  8.25386420e-02,   9.14799511e-01,   2.66184239e-03],\n",
       "       ..., \n",
       "       [  1.30860116e-02,   1.21466748e-09,   9.86913979e-01],\n",
       "       [  9.48876560e-01,   1.05401909e-06,   5.11223860e-02],\n",
       "       [  3.15247536e-01,   3.32575321e-01,   3.52177173e-01]], dtype=float32)"
      ]
     },
     "execution_count": 46,
     "metadata": {},
     "output_type": "execute_result"
    }
   ],
   "source": [
    "predict_test"
   ]
  },
  {
   "cell_type": "code",
   "execution_count": 47,
   "metadata": {},
   "outputs": [
    {
     "data": {
      "text/plain": [
       "(131155, 3)"
      ]
     },
     "execution_count": 47,
     "metadata": {},
     "output_type": "execute_result"
    }
   ],
   "source": [
    "predict_test.shape"
   ]
  },
  {
   "cell_type": "code",
   "execution_count": 48,
   "metadata": {},
   "outputs": [
    {
     "data": {
      "text/html": [
       "<div>\n",
       "<style>\n",
       "    .dataframe thead tr:only-child th {\n",
       "        text-align: right;\n",
       "    }\n",
       "\n",
       "    .dataframe thead th {\n",
       "        text-align: left;\n",
       "    }\n",
       "\n",
       "    .dataframe tbody tr th {\n",
       "        vertical-align: top;\n",
       "    }\n",
       "</style>\n",
       "<table border=\"1\" class=\"dataframe\">\n",
       "  <thead>\n",
       "    <tr style=\"text-align: right;\">\n",
       "      <th></th>\n",
       "      <th>modeChoice_observed</th>\n",
       "      <th>modeChoice_predicted</th>\n",
       "    </tr>\n",
       "  </thead>\n",
       "  <tbody>\n",
       "    <tr>\n",
       "      <th>0</th>\n",
       "      <td>CW</td>\n",
       "      <td>CW</td>\n",
       "    </tr>\n",
       "    <tr>\n",
       "      <th>1</th>\n",
       "      <td>DM</td>\n",
       "      <td>DM</td>\n",
       "    </tr>\n",
       "    <tr>\n",
       "      <th>2</th>\n",
       "      <td>DM</td>\n",
       "      <td>DM</td>\n",
       "    </tr>\n",
       "    <tr>\n",
       "      <th>3</th>\n",
       "      <td>DM</td>\n",
       "      <td>DM</td>\n",
       "    </tr>\n",
       "    <tr>\n",
       "      <th>4</th>\n",
       "      <td>DM</td>\n",
       "      <td>DM</td>\n",
       "    </tr>\n",
       "  </tbody>\n",
       "</table>\n",
       "</div>"
      ],
      "text/plain": [
       "  modeChoice_observed modeChoice_predicted\n",
       "0                  CW                   CW\n",
       "1                  DM                   DM\n",
       "2                  DM                   DM\n",
       "3                  DM                   DM\n",
       "4                  DM                   DM"
      ]
     },
     "execution_count": 48,
     "metadata": {},
     "output_type": "execute_result"
    }
   ],
   "source": [
    "y_test_df = []\n",
    "modeChoice_observed = []\n",
    "modeChoice_predicted = []\n",
    "\n",
    "for i in range (0, predict_test.shape[0]):\n",
    "    modeChoice_predicted.append(Mode_cat[np.argmax(predict_test[i])])\n",
    "    modeChoice_observed.append(Mode_cat[np.argmax(y_test[i])])\n",
    "\n",
    "y_test_df = pd.DataFrame({'modeChoice_observed':modeChoice_observed,\n",
    "              'modeChoice_predicted':modeChoice_predicted})    \n",
    "y_test_df.head()  "
   ]
  },
  {
   "cell_type": "code",
   "execution_count": 49,
   "metadata": {},
   "outputs": [
    {
     "data": {
      "text/html": [
       "<div>\n",
       "<style>\n",
       "    .dataframe thead tr:only-child th {\n",
       "        text-align: right;\n",
       "    }\n",
       "\n",
       "    .dataframe thead th {\n",
       "        text-align: left;\n",
       "    }\n",
       "\n",
       "    .dataframe tbody tr th {\n",
       "        vertical-align: top;\n",
       "    }\n",
       "</style>\n",
       "<table border=\"1\" class=\"dataframe\">\n",
       "  <thead>\n",
       "    <tr style=\"text-align: right;\">\n",
       "      <th>modeChoice_predicted</th>\n",
       "      <th>CW</th>\n",
       "      <th>DM</th>\n",
       "      <th>T</th>\n",
       "    </tr>\n",
       "    <tr>\n",
       "      <th>modeChoice_observed</th>\n",
       "      <th></th>\n",
       "      <th></th>\n",
       "      <th></th>\n",
       "    </tr>\n",
       "  </thead>\n",
       "  <tbody>\n",
       "    <tr>\n",
       "      <th>CW</th>\n",
       "      <td>4459</td>\n",
       "      <td>1701</td>\n",
       "      <td>1397</td>\n",
       "    </tr>\n",
       "    <tr>\n",
       "      <th>DM</th>\n",
       "      <td>339</td>\n",
       "      <td>102893</td>\n",
       "      <td>1456</td>\n",
       "    </tr>\n",
       "    <tr>\n",
       "      <th>T</th>\n",
       "      <td>982</td>\n",
       "      <td>3214</td>\n",
       "      <td>14714</td>\n",
       "    </tr>\n",
       "  </tbody>\n",
       "</table>\n",
       "</div>"
      ],
      "text/plain": [
       "modeChoice_predicted    CW      DM      T\n",
       "modeChoice_observed                      \n",
       "CW                    4459    1701   1397\n",
       "DM                     339  102893   1456\n",
       "T                      982    3214  14714"
      ]
     },
     "execution_count": 49,
     "metadata": {},
     "output_type": "execute_result"
    }
   ],
   "source": [
    "pd.crosstab(y_test_df['modeChoice_observed'], y_test_df['modeChoice_predicted'])"
   ]
  },
  {
   "cell_type": "code",
   "execution_count": 50,
   "metadata": {},
   "outputs": [
    {
     "name": "stdout",
     "output_type": "stream",
     "text": [
      "Model Accuracy: 93.07%\n"
     ]
    }
   ],
   "source": [
    "# summarize performance of the model for testing data set\n",
    "scores = model.evaluate(x_test,y_test, verbose=2)\n",
    "print(\"Model Accuracy: %.2f%%\" % (scores[1]*100))"
   ]
  },
  {
   "cell_type": "code",
   "execution_count": null,
   "metadata": {
    "collapsed": true
   },
   "outputs": [],
   "source": []
  }
 ],
 "metadata": {
  "kernelspec": {
   "display_name": "Python 3",
   "language": "python",
   "name": "python3"
  },
  "language_info": {
   "codemirror_mode": {
    "name": "ipython",
    "version": 3
   },
   "file_extension": ".py",
   "mimetype": "text/x-python",
   "name": "python",
   "nbconvert_exporter": "python",
   "pygments_lexer": "ipython3",
   "version": "3.6.2"
  }
 },
 "nbformat": 4,
 "nbformat_minor": 2
}
