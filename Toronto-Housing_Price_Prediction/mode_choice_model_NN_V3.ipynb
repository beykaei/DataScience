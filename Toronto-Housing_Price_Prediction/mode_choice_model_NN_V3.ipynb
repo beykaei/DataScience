{
 "cells": [
  {
   "cell_type": "markdown",
   "metadata": {},
   "source": [
    "# TASHA - Mode Choice Model"
   ]
  },
  {
   "cell_type": "markdown",
   "metadata": {},
   "source": [
    "## Using AI to predict the mode choice by persons in household"
   ]
  },
  {
   "cell_type": "markdown",
   "metadata": {},
   "source": [
    "#### Author: Ahad Beykaei\n",
    "#### Date: Oct 10, 2017"
   ]
  },
  {
   "cell_type": "markdown",
   "metadata": {},
   "source": [
    "<em>Model V3</em> <br><br>\n",
    "One input layer - 49 features (~ , 49) <br>\n",
    "Four hidden layers - each 256 neurons (49, 256) (256, 256) (256, 5) <br>\n",
    "One output layer - 5 neurons for 5 types of modes (5, ~) <br>\n",
    "\n",
    "Scalling variables: Min-Max Scaler <br>\n",
    "OneHotEncoding categorical data"
   ]
  },
  {
   "cell_type": "code",
   "execution_count": 1,
   "metadata": {},
   "outputs": [
    {
     "name": "stderr",
     "output_type": "stream",
     "text": [
      "Using TensorFlow backend.\n"
     ]
    }
   ],
   "source": [
    "import numpy as np\n",
    "import pandas as pd\n",
    "import chardet\n",
    "import matplotlib.pyplot as plt\n",
    "\n",
    "import keras\n",
    "from keras.models import Sequential\n",
    "from keras.layers import Dense, Dropout\n",
    "from keras.preprocessing import sequence"
   ]
  },
  {
   "cell_type": "markdown",
   "metadata": {},
   "source": [
    "## Find encoding format of the file "
   ]
  },
  {
   "cell_type": "code",
   "execution_count": 2,
   "metadata": {},
   "outputs": [
    {
     "name": "stdout",
     "output_type": "stream",
     "text": [
      "ascii\n"
     ]
    }
   ],
   "source": [
    "with open('processedTrips.csv', 'rb') as f:\n",
    "    result = chardet.detect(f.read())\n",
    "    \n",
    "print(result['encoding'])"
   ]
  },
  {
   "cell_type": "markdown",
   "metadata": {},
   "source": [
    "## Loading data"
   ]
  },
  {
   "cell_type": "code",
   "execution_count": 3,
   "metadata": {
    "collapsed": true
   },
   "outputs": [],
   "source": [
    "df = pd.read_csv(\"processedTrips.csv\", encoding=result['encoding'])"
   ]
  },
  {
   "cell_type": "code",
   "execution_count": 4,
   "metadata": {},
   "outputs": [
    {
     "data": {
      "text/html": [
       "<div>\n",
       "<style>\n",
       "    .dataframe thead tr:only-child th {\n",
       "        text-align: right;\n",
       "    }\n",
       "\n",
       "    .dataframe thead th {\n",
       "        text-align: left;\n",
       "    }\n",
       "\n",
       "    .dataframe tbody tr th {\n",
       "        vertical-align: top;\n",
       "    }\n",
       "</style>\n",
       "<table border=\"1\" class=\"dataframe\">\n",
       "  <thead>\n",
       "    <tr style=\"text-align: right;\">\n",
       "      <th></th>\n",
       "      <th>HouseholdId</th>\n",
       "      <th>PersonNumber</th>\n",
       "      <th>TripNumber</th>\n",
       "      <th>StartTime</th>\n",
       "      <th>ObservedMode</th>\n",
       "      <th>PurposeOrigin</th>\n",
       "      <th>OriginZone</th>\n",
       "      <th>PurposeDestination</th>\n",
       "      <th>DestinationZone</th>\n",
       "      <th>JointTourID</th>\n",
       "      <th>...</th>\n",
       "      <th>TransitPass</th>\n",
       "      <th>Sex</th>\n",
       "      <th>EmpStat</th>\n",
       "      <th>Occ</th>\n",
       "      <th>FreeParking</th>\n",
       "      <th>AIVTT</th>\n",
       "      <th>ACOST</th>\n",
       "      <th>TransUtil</th>\n",
       "      <th>TransPrice</th>\n",
       "      <th>Distance</th>\n",
       "    </tr>\n",
       "  </thead>\n",
       "  <tbody>\n",
       "    <tr>\n",
       "      <th>0</th>\n",
       "      <td>100001</td>\n",
       "      <td>1</td>\n",
       "      <td>1</td>\n",
       "      <td>700</td>\n",
       "      <td>T</td>\n",
       "      <td>H</td>\n",
       "      <td>591</td>\n",
       "      <td>W</td>\n",
       "      <td>442</td>\n",
       "      <td>0</td>\n",
       "      <td>...</td>\n",
       "      <td>M</td>\n",
       "      <td>M</td>\n",
       "      <td>F</td>\n",
       "      <td>P</td>\n",
       "      <td>N</td>\n",
       "      <td>22.963760</td>\n",
       "      <td>2.567012</td>\n",
       "      <td>143.03660</td>\n",
       "      <td>1.980000</td>\n",
       "      <td>16.777860</td>\n",
       "    </tr>\n",
       "    <tr>\n",
       "      <th>1</th>\n",
       "      <td>100001</td>\n",
       "      <td>1</td>\n",
       "      <td>2</td>\n",
       "      <td>1600</td>\n",
       "      <td>T</td>\n",
       "      <td>W</td>\n",
       "      <td>442</td>\n",
       "      <td>H</td>\n",
       "      <td>591</td>\n",
       "      <td>0</td>\n",
       "      <td>...</td>\n",
       "      <td>M</td>\n",
       "      <td>M</td>\n",
       "      <td>F</td>\n",
       "      <td>P</td>\n",
       "      <td>N</td>\n",
       "      <td>19.327180</td>\n",
       "      <td>1.501283</td>\n",
       "      <td>89.97700</td>\n",
       "      <td>1.980000</td>\n",
       "      <td>9.812310</td>\n",
       "    </tr>\n",
       "    <tr>\n",
       "      <th>2</th>\n",
       "      <td>100001</td>\n",
       "      <td>2</td>\n",
       "      <td>1</td>\n",
       "      <td>1000</td>\n",
       "      <td>D</td>\n",
       "      <td>H</td>\n",
       "      <td>591</td>\n",
       "      <td>M</td>\n",
       "      <td>482</td>\n",
       "      <td>0</td>\n",
       "      <td>...</td>\n",
       "      <td>N</td>\n",
       "      <td>F</td>\n",
       "      <td>O</td>\n",
       "      <td>O</td>\n",
       "      <td>O</td>\n",
       "      <td>5.467029</td>\n",
       "      <td>0.722114</td>\n",
       "      <td>98.64271</td>\n",
       "      <td>1.980000</td>\n",
       "      <td>4.719703</td>\n",
       "    </tr>\n",
       "    <tr>\n",
       "      <th>3</th>\n",
       "      <td>100001</td>\n",
       "      <td>2</td>\n",
       "      <td>2</td>\n",
       "      <td>1100</td>\n",
       "      <td>D</td>\n",
       "      <td>M</td>\n",
       "      <td>482</td>\n",
       "      <td>H</td>\n",
       "      <td>591</td>\n",
       "      <td>0</td>\n",
       "      <td>...</td>\n",
       "      <td>N</td>\n",
       "      <td>F</td>\n",
       "      <td>O</td>\n",
       "      <td>O</td>\n",
       "      <td>O</td>\n",
       "      <td>4.094516</td>\n",
       "      <td>0.549011</td>\n",
       "      <td>75.52932</td>\n",
       "      <td>1.980000</td>\n",
       "      <td>3.588306</td>\n",
       "    </tr>\n",
       "    <tr>\n",
       "      <th>4</th>\n",
       "      <td>100007</td>\n",
       "      <td>1</td>\n",
       "      <td>1</td>\n",
       "      <td>1100</td>\n",
       "      <td>D</td>\n",
       "      <td>H</td>\n",
       "      <td>477</td>\n",
       "      <td>O</td>\n",
       "      <td>2255</td>\n",
       "      <td>0</td>\n",
       "      <td>...</td>\n",
       "      <td>N</td>\n",
       "      <td>M</td>\n",
       "      <td>O</td>\n",
       "      <td>O</td>\n",
       "      <td>O</td>\n",
       "      <td>6.147649</td>\n",
       "      <td>1.313678</td>\n",
       "      <td>103.15890</td>\n",
       "      <td>2.669254</td>\n",
       "      <td>8.586128</td>\n",
       "    </tr>\n",
       "  </tbody>\n",
       "</table>\n",
       "<p>5 rows × 24 columns</p>\n",
       "</div>"
      ],
      "text/plain": [
       "   HouseholdId  PersonNumber  TripNumber  StartTime ObservedMode  \\\n",
       "0       100001             1           1        700            T   \n",
       "1       100001             1           2       1600            T   \n",
       "2       100001             2           1       1000            D   \n",
       "3       100001             2           2       1100            D   \n",
       "4       100007             1           1       1100            D   \n",
       "\n",
       "  PurposeOrigin  OriginZone PurposeDestination  DestinationZone  JointTourID  \\\n",
       "0             H         591                  W              442            0   \n",
       "1             W         442                  H              591            0   \n",
       "2             H         591                  M              482            0   \n",
       "3             M         482                  H              591            0   \n",
       "4             H         477                  O             2255            0   \n",
       "\n",
       "     ...      TransitPass  Sex  EmpStat Occ FreeParking      AIVTT     ACOST  \\\n",
       "0    ...                M    M        F   P           N  22.963760  2.567012   \n",
       "1    ...                M    M        F   P           N  19.327180  1.501283   \n",
       "2    ...                N    F        O   O           O   5.467029  0.722114   \n",
       "3    ...                N    F        O   O           O   4.094516  0.549011   \n",
       "4    ...                N    M        O   O           O   6.147649  1.313678   \n",
       "\n",
       "   TransUtil TransPrice   Distance  \n",
       "0  143.03660   1.980000  16.777860  \n",
       "1   89.97700   1.980000   9.812310  \n",
       "2   98.64271   1.980000   4.719703  \n",
       "3   75.52932   1.980000   3.588306  \n",
       "4  103.15890   2.669254   8.586128  \n",
       "\n",
       "[5 rows x 24 columns]"
      ]
     },
     "execution_count": 4,
     "metadata": {},
     "output_type": "execute_result"
    }
   ],
   "source": [
    "df.head(5)"
   ]
  },
  {
   "cell_type": "markdown",
   "metadata": {},
   "source": [
    "## Data preprocessing"
   ]
  },
  {
   "cell_type": "code",
   "execution_count": 5,
   "metadata": {
    "scrolled": true
   },
   "outputs": [
    {
     "name": "stdout",
     "output_type": "stream",
     "text": [
      "Size of data: (437183, 24)\n"
     ]
    }
   ],
   "source": [
    "print(\"Size of data: \" + str(df.shape))"
   ]
  },
  {
   "cell_type": "code",
   "execution_count": 6,
   "metadata": {
    "scrolled": true
   },
   "outputs": [
    {
     "data": {
      "text/plain": [
       "Index(['HouseholdId', 'PersonNumber', 'TripNumber', 'StartTime',\n",
       "       'ObservedMode', 'PurposeOrigin', 'OriginZone', 'PurposeDestination',\n",
       "       'DestinationZone', 'JointTourID', 'JointTourRep', 'Cars', 'Age',\n",
       "       'DriverLicense', 'TransitPass', 'Sex', 'EmpStat', 'Occ', 'FreeParking',\n",
       "       'AIVTT', 'ACOST', 'TransUtil', 'TransPrice', 'Distance'],\n",
       "      dtype='object')"
      ]
     },
     "execution_count": 6,
     "metadata": {},
     "output_type": "execute_result"
    }
   ],
   "source": [
    "df.columns"
   ]
  },
  {
   "cell_type": "code",
   "execution_count": 7,
   "metadata": {},
   "outputs": [
    {
     "data": {
      "text/plain": [
       "ObservedMode\n",
       "C      5182\n",
       "D    349075\n",
       "M       354\n",
       "T     62739\n",
       "W     19833\n",
       "Name: ObservedMode, dtype: int64"
      ]
     },
     "execution_count": 7,
     "metadata": {},
     "output_type": "execute_result"
    }
   ],
   "source": [
    "df.groupby('ObservedMode').ObservedMode.count()"
   ]
  },
  {
   "cell_type": "markdown",
   "metadata": {},
   "source": [
    "### Numerical variables description"
   ]
  },
  {
   "cell_type": "code",
   "execution_count": 8,
   "metadata": {},
   "outputs": [
    {
     "data": {
      "text/html": [
       "<div>\n",
       "<style>\n",
       "    .dataframe thead tr:only-child th {\n",
       "        text-align: right;\n",
       "    }\n",
       "\n",
       "    .dataframe thead th {\n",
       "        text-align: left;\n",
       "    }\n",
       "\n",
       "    .dataframe tbody tr th {\n",
       "        vertical-align: top;\n",
       "    }\n",
       "</style>\n",
       "<table border=\"1\" class=\"dataframe\">\n",
       "  <thead>\n",
       "    <tr style=\"text-align: right;\">\n",
       "      <th></th>\n",
       "      <th>Cars</th>\n",
       "      <th>Age</th>\n",
       "      <th>AIVTT</th>\n",
       "      <th>ACOST</th>\n",
       "      <th>TransUtil</th>\n",
       "      <th>TransPrice</th>\n",
       "      <th>Distance</th>\n",
       "    </tr>\n",
       "  </thead>\n",
       "  <tbody>\n",
       "    <tr>\n",
       "      <th>count</th>\n",
       "      <td>437183.000000</td>\n",
       "      <td>437183.000000</td>\n",
       "      <td>437183.000000</td>\n",
       "      <td>437183.000000</td>\n",
       "      <td>437183.000000</td>\n",
       "      <td>437183.000000</td>\n",
       "      <td>437183.000000</td>\n",
       "    </tr>\n",
       "    <tr>\n",
       "      <th>mean</th>\n",
       "      <td>1.760608</td>\n",
       "      <td>48.464384</td>\n",
       "      <td>15.242959</td>\n",
       "      <td>2.218515</td>\n",
       "      <td>166.403107</td>\n",
       "      <td>29.330120</td>\n",
       "      <td>14.171657</td>\n",
       "    </tr>\n",
       "    <tr>\n",
       "      <th>std</th>\n",
       "      <td>1.841894</td>\n",
       "      <td>16.412295</td>\n",
       "      <td>15.246949</td>\n",
       "      <td>2.711710</td>\n",
       "      <td>182.197141</td>\n",
       "      <td>160.127512</td>\n",
       "      <td>17.740865</td>\n",
       "    </tr>\n",
       "    <tr>\n",
       "      <th>min</th>\n",
       "      <td>0.000000</td>\n",
       "      <td>11.000000</td>\n",
       "      <td>0.000000</td>\n",
       "      <td>0.000000</td>\n",
       "      <td>0.000000</td>\n",
       "      <td>0.000000</td>\n",
       "      <td>0.000000</td>\n",
       "    </tr>\n",
       "    <tr>\n",
       "      <th>25%</th>\n",
       "      <td>1.000000</td>\n",
       "      <td>37.000000</td>\n",
       "      <td>5.127548</td>\n",
       "      <td>0.606866</td>\n",
       "      <td>84.700670</td>\n",
       "      <td>1.980000</td>\n",
       "      <td>3.681851</td>\n",
       "    </tr>\n",
       "    <tr>\n",
       "      <th>50%</th>\n",
       "      <td>2.000000</td>\n",
       "      <td>49.000000</td>\n",
       "      <td>10.066300</td>\n",
       "      <td>1.279561</td>\n",
       "      <td>113.884000</td>\n",
       "      <td>1.980000</td>\n",
       "      <td>8.154753</td>\n",
       "    </tr>\n",
       "    <tr>\n",
       "      <th>75%</th>\n",
       "      <td>2.000000</td>\n",
       "      <td>60.000000</td>\n",
       "      <td>19.860945</td>\n",
       "      <td>2.783548</td>\n",
       "      <td>169.514450</td>\n",
       "      <td>2.786327</td>\n",
       "      <td>18.014565</td>\n",
       "    </tr>\n",
       "    <tr>\n",
       "      <th>max</th>\n",
       "      <td>99.000000</td>\n",
       "      <td>99.000000</td>\n",
       "      <td>189.149900</td>\n",
       "      <td>47.364570</td>\n",
       "      <td>2493.083000</td>\n",
       "      <td>1000.000000</td>\n",
       "      <td>309.572400</td>\n",
       "    </tr>\n",
       "  </tbody>\n",
       "</table>\n",
       "</div>"
      ],
      "text/plain": [
       "                Cars            Age          AIVTT          ACOST  \\\n",
       "count  437183.000000  437183.000000  437183.000000  437183.000000   \n",
       "mean        1.760608      48.464384      15.242959       2.218515   \n",
       "std         1.841894      16.412295      15.246949       2.711710   \n",
       "min         0.000000      11.000000       0.000000       0.000000   \n",
       "25%         1.000000      37.000000       5.127548       0.606866   \n",
       "50%         2.000000      49.000000      10.066300       1.279561   \n",
       "75%         2.000000      60.000000      19.860945       2.783548   \n",
       "max        99.000000      99.000000     189.149900      47.364570   \n",
       "\n",
       "           TransUtil     TransPrice       Distance  \n",
       "count  437183.000000  437183.000000  437183.000000  \n",
       "mean      166.403107      29.330120      14.171657  \n",
       "std       182.197141     160.127512      17.740865  \n",
       "min         0.000000       0.000000       0.000000  \n",
       "25%        84.700670       1.980000       3.681851  \n",
       "50%       113.884000       1.980000       8.154753  \n",
       "75%       169.514450       2.786327      18.014565  \n",
       "max      2493.083000    1000.000000     309.572400  "
      ]
     },
     "execution_count": 8,
     "metadata": {},
     "output_type": "execute_result"
    }
   ],
   "source": [
    "# Including only numeric columns in a DataFrame description.\n",
    "# df.describe(include=[np.number]) or exclude=[np.number] or np.object\n",
    "\n",
    "df[['Cars', 'Age', 'AIVTT', \n",
    "    'ACOST', 'TransUtil', \n",
    "    'TransPrice', 'Distance']].describe()"
   ]
  },
  {
   "cell_type": "markdown",
   "metadata": {},
   "source": [
    "### Vectorizing Data"
   ]
  },
  {
   "cell_type": "markdown",
   "metadata": {},
   "source": [
    "#### <div style=\"color:#983499\">Vectorizing response data (Observed Mode)</div>"
   ]
  },
  {
   "cell_type": "code",
   "execution_count": 8,
   "metadata": {},
   "outputs": [
    {
     "data": {
      "text/plain": [
       "(437183, 5)"
      ]
     },
     "execution_count": 8,
     "metadata": {},
     "output_type": "execute_result"
    }
   ],
   "source": [
    "from sklearn import preprocessing\n",
    "\n",
    "# encode labels with value between 0 and n_classes-1.\n",
    "# 1. INSTANTIATE\n",
    "le = preprocessing.LabelEncoder()\n",
    "# use df.apply() to apply le.fit_transform to all columns\n",
    "y = df[['ObservedMode']]\n",
    "y = y.apply(le.fit_transform)\n",
    "\n",
    "# one-hot encoder\n",
    "# 1. INSTANTIATE\n",
    "enc = preprocessing.OneHotEncoder()\n",
    "# 2. FIT\n",
    "enc.fit(y)\n",
    "# 3. Transform --> onehotlabels\n",
    "Y = enc.transform(y).toarray()\n",
    "Y.shape"
   ]
  },
  {
   "cell_type": "code",
   "execution_count": 9,
   "metadata": {},
   "outputs": [
    {
     "name": "stdout",
     "output_type": "stream",
     "text": [
      "[[ 0.  0.  0.  1.  0.]\n",
      " [ 0.  0.  0.  1.  0.]\n",
      " [ 0.  1.  0.  0.  0.]\n",
      " ..., \n",
      " [ 0.  0.  0.  1.  0.]\n",
      " [ 0.  0.  0.  0.  1.]\n",
      " [ 0.  0.  0.  1.  0.]]\n"
     ]
    }
   ],
   "source": [
    "print(Y)"
   ]
  },
  {
   "cell_type": "markdown",
   "metadata": {},
   "source": [
    "#### <div style=\"color:#983499\">Vectorizing categorical input data</div>"
   ]
  },
  {
   "cell_type": "code",
   "execution_count": 10,
   "metadata": {},
   "outputs": [
    {
     "data": {
      "text/html": [
       "<div>\n",
       "<style>\n",
       "    .dataframe thead tr:only-child th {\n",
       "        text-align: right;\n",
       "    }\n",
       "\n",
       "    .dataframe thead th {\n",
       "        text-align: left;\n",
       "    }\n",
       "\n",
       "    .dataframe tbody tr th {\n",
       "        vertical-align: top;\n",
       "    }\n",
       "</style>\n",
       "<table border=\"1\" class=\"dataframe\">\n",
       "  <thead>\n",
       "    <tr style=\"text-align: right;\">\n",
       "      <th></th>\n",
       "      <th>PurposeOrigin</th>\n",
       "      <th>PurposeDestination</th>\n",
       "      <th>Cars</th>\n",
       "      <th>Age</th>\n",
       "      <th>DriverLicense</th>\n",
       "      <th>TransitPass</th>\n",
       "      <th>Sex</th>\n",
       "      <th>EmpStat</th>\n",
       "      <th>Occ</th>\n",
       "      <th>FreeParking</th>\n",
       "      <th>AIVTT</th>\n",
       "      <th>ACOST</th>\n",
       "      <th>TransUtil</th>\n",
       "      <th>TransPrice</th>\n",
       "      <th>Distance</th>\n",
       "    </tr>\n",
       "  </thead>\n",
       "  <tbody>\n",
       "    <tr>\n",
       "      <th>0</th>\n",
       "      <td>H</td>\n",
       "      <td>W</td>\n",
       "      <td>1</td>\n",
       "      <td>42</td>\n",
       "      <td>Y</td>\n",
       "      <td>M</td>\n",
       "      <td>M</td>\n",
       "      <td>F</td>\n",
       "      <td>P</td>\n",
       "      <td>N</td>\n",
       "      <td>22.963760</td>\n",
       "      <td>2.567012</td>\n",
       "      <td>143.03660</td>\n",
       "      <td>1.980000</td>\n",
       "      <td>16.777860</td>\n",
       "    </tr>\n",
       "    <tr>\n",
       "      <th>1</th>\n",
       "      <td>W</td>\n",
       "      <td>H</td>\n",
       "      <td>1</td>\n",
       "      <td>42</td>\n",
       "      <td>Y</td>\n",
       "      <td>M</td>\n",
       "      <td>M</td>\n",
       "      <td>F</td>\n",
       "      <td>P</td>\n",
       "      <td>N</td>\n",
       "      <td>19.327180</td>\n",
       "      <td>1.501283</td>\n",
       "      <td>89.97700</td>\n",
       "      <td>1.980000</td>\n",
       "      <td>9.812310</td>\n",
       "    </tr>\n",
       "    <tr>\n",
       "      <th>2</th>\n",
       "      <td>H</td>\n",
       "      <td>M</td>\n",
       "      <td>1</td>\n",
       "      <td>40</td>\n",
       "      <td>Y</td>\n",
       "      <td>N</td>\n",
       "      <td>F</td>\n",
       "      <td>O</td>\n",
       "      <td>O</td>\n",
       "      <td>O</td>\n",
       "      <td>5.467029</td>\n",
       "      <td>0.722114</td>\n",
       "      <td>98.64271</td>\n",
       "      <td>1.980000</td>\n",
       "      <td>4.719703</td>\n",
       "    </tr>\n",
       "    <tr>\n",
       "      <th>3</th>\n",
       "      <td>M</td>\n",
       "      <td>H</td>\n",
       "      <td>1</td>\n",
       "      <td>40</td>\n",
       "      <td>Y</td>\n",
       "      <td>N</td>\n",
       "      <td>F</td>\n",
       "      <td>O</td>\n",
       "      <td>O</td>\n",
       "      <td>O</td>\n",
       "      <td>4.094516</td>\n",
       "      <td>0.549011</td>\n",
       "      <td>75.52932</td>\n",
       "      <td>1.980000</td>\n",
       "      <td>3.588306</td>\n",
       "    </tr>\n",
       "    <tr>\n",
       "      <th>4</th>\n",
       "      <td>H</td>\n",
       "      <td>O</td>\n",
       "      <td>1</td>\n",
       "      <td>62</td>\n",
       "      <td>Y</td>\n",
       "      <td>N</td>\n",
       "      <td>M</td>\n",
       "      <td>O</td>\n",
       "      <td>O</td>\n",
       "      <td>O</td>\n",
       "      <td>6.147649</td>\n",
       "      <td>1.313678</td>\n",
       "      <td>103.15890</td>\n",
       "      <td>2.669254</td>\n",
       "      <td>8.586128</td>\n",
       "    </tr>\n",
       "  </tbody>\n",
       "</table>\n",
       "</div>"
      ],
      "text/plain": [
       "  PurposeOrigin PurposeDestination  Cars  Age DriverLicense TransitPass Sex  \\\n",
       "0             H                  W     1   42             Y           M   M   \n",
       "1             W                  H     1   42             Y           M   M   \n",
       "2             H                  M     1   40             Y           N   F   \n",
       "3             M                  H     1   40             Y           N   F   \n",
       "4             H                  O     1   62             Y           N   M   \n",
       "\n",
       "  EmpStat Occ FreeParking      AIVTT     ACOST  TransUtil  TransPrice  \\\n",
       "0       F   P           N  22.963760  2.567012  143.03660    1.980000   \n",
       "1       F   P           N  19.327180  1.501283   89.97700    1.980000   \n",
       "2       O   O           O   5.467029  0.722114   98.64271    1.980000   \n",
       "3       O   O           O   4.094516  0.549011   75.52932    1.980000   \n",
       "4       O   O           O   6.147649  1.313678  103.15890    2.669254   \n",
       "\n",
       "    Distance  \n",
       "0  16.777860  \n",
       "1   9.812310  \n",
       "2   4.719703  \n",
       "3   3.588306  \n",
       "4   8.586128  "
      ]
     },
     "execution_count": 10,
     "metadata": {},
     "output_type": "execute_result"
    }
   ],
   "source": [
    "X = df[['PurposeOrigin','PurposeDestination','Cars', 'Age',\n",
    "       'DriverLicense', 'TransitPass', 'Sex', 'EmpStat', 'Occ', 'FreeParking',\n",
    "       'AIVTT', 'ACOST', 'TransUtil', 'TransPrice', 'Distance']]\n",
    "X.head()"
   ]
  },
  {
   "cell_type": "code",
   "execution_count": 11,
   "metadata": {
    "collapsed": true
   },
   "outputs": [],
   "source": [
    "X = df[['PurposeOrigin','PurposeDestination',\n",
    "       'DriverLicense', 'TransitPass', 'Sex', 'EmpStat', 'Occ', 'FreeParking']]\n",
    "x_le = X.apply(le.fit_transform)"
   ]
  },
  {
   "cell_type": "code",
   "execution_count": 12,
   "metadata": {},
   "outputs": [
    {
     "data": {
      "text/html": [
       "<div>\n",
       "<style>\n",
       "    .dataframe thead tr:only-child th {\n",
       "        text-align: right;\n",
       "    }\n",
       "\n",
       "    .dataframe thead th {\n",
       "        text-align: left;\n",
       "    }\n",
       "\n",
       "    .dataframe tbody tr th {\n",
       "        vertical-align: top;\n",
       "    }\n",
       "</style>\n",
       "<table border=\"1\" class=\"dataframe\">\n",
       "  <thead>\n",
       "    <tr style=\"text-align: right;\">\n",
       "      <th></th>\n",
       "      <th>PurposeOrigin</th>\n",
       "      <th>PurposeDestination</th>\n",
       "      <th>DriverLicense</th>\n",
       "      <th>TransitPass</th>\n",
       "      <th>Sex</th>\n",
       "      <th>EmpStat</th>\n",
       "      <th>Occ</th>\n",
       "      <th>FreeParking</th>\n",
       "    </tr>\n",
       "  </thead>\n",
       "  <tbody>\n",
       "    <tr>\n",
       "      <th>0</th>\n",
       "      <td>0</td>\n",
       "      <td>9</td>\n",
       "      <td>2</td>\n",
       "      <td>3</td>\n",
       "      <td>2</td>\n",
       "      <td>1</td>\n",
       "      <td>4</td>\n",
       "      <td>1</td>\n",
       "    </tr>\n",
       "    <tr>\n",
       "      <th>1</th>\n",
       "      <td>3</td>\n",
       "      <td>4</td>\n",
       "      <td>2</td>\n",
       "      <td>3</td>\n",
       "      <td>2</td>\n",
       "      <td>1</td>\n",
       "      <td>4</td>\n",
       "      <td>1</td>\n",
       "    </tr>\n",
       "    <tr>\n",
       "      <th>2</th>\n",
       "      <td>0</td>\n",
       "      <td>5</td>\n",
       "      <td>2</td>\n",
       "      <td>4</td>\n",
       "      <td>1</td>\n",
       "      <td>4</td>\n",
       "      <td>3</td>\n",
       "      <td>2</td>\n",
       "    </tr>\n",
       "    <tr>\n",
       "      <th>3</th>\n",
       "      <td>1</td>\n",
       "      <td>4</td>\n",
       "      <td>2</td>\n",
       "      <td>4</td>\n",
       "      <td>1</td>\n",
       "      <td>4</td>\n",
       "      <td>3</td>\n",
       "      <td>2</td>\n",
       "    </tr>\n",
       "    <tr>\n",
       "      <th>4</th>\n",
       "      <td>0</td>\n",
       "      <td>6</td>\n",
       "      <td>2</td>\n",
       "      <td>4</td>\n",
       "      <td>2</td>\n",
       "      <td>4</td>\n",
       "      <td>3</td>\n",
       "      <td>2</td>\n",
       "    </tr>\n",
       "  </tbody>\n",
       "</table>\n",
       "</div>"
      ],
      "text/plain": [
       "   PurposeOrigin  PurposeDestination  DriverLicense  TransitPass  Sex  \\\n",
       "0              0                   9              2            3    2   \n",
       "1              3                   4              2            3    2   \n",
       "2              0                   5              2            4    1   \n",
       "3              1                   4              2            4    1   \n",
       "4              0                   6              2            4    2   \n",
       "\n",
       "   EmpStat  Occ  FreeParking  \n",
       "0        1    4            1  \n",
       "1        1    4            1  \n",
       "2        4    3            2  \n",
       "3        4    3            2  \n",
       "4        4    3            2  "
      ]
     },
     "execution_count": 12,
     "metadata": {},
     "output_type": "execute_result"
    }
   ],
   "source": [
    "x_le.head()"
   ]
  },
  {
   "cell_type": "code",
   "execution_count": 13,
   "metadata": {},
   "outputs": [
    {
     "data": {
      "text/plain": [
       "(437183, 42)"
      ]
     },
     "execution_count": 13,
     "metadata": {},
     "output_type": "execute_result"
    }
   ],
   "source": [
    "# 1. INSTANTIATE\n",
    "enc = preprocessing.OneHotEncoder()\n",
    "\n",
    "# 2. FIT\n",
    "enc.fit(x_le)\n",
    "\n",
    "# 3. Transform\n",
    "X_enc = enc.transform(x_le).toarray()\n",
    "X_enc.shape\n",
    "# as you can see, you've the same number of rows 891\n",
    "# but now you've so many more columns due to how we changed all the categorical data into numerical data"
   ]
  },
  {
   "cell_type": "code",
   "execution_count": 14,
   "metadata": {},
   "outputs": [
    {
     "data": {
      "text/plain": [
       "array([[ 1.,  0.,  0., ...,  1.,  0.,  0.],\n",
       "       [ 0.,  0.,  0., ...,  1.,  0.,  0.],\n",
       "       [ 1.,  0.,  0., ...,  0.,  1.,  0.],\n",
       "       ..., \n",
       "       [ 0.,  0.,  0., ...,  1.,  0.,  0.],\n",
       "       [ 1.,  0.,  0., ...,  1.,  0.,  0.],\n",
       "       [ 0.,  0.,  1., ...,  1.,  0.,  0.]])"
      ]
     },
     "execution_count": 14,
     "metadata": {},
     "output_type": "execute_result"
    }
   ],
   "source": [
    "X_enc"
   ]
  },
  {
   "cell_type": "markdown",
   "metadata": {},
   "source": [
    "### Scaling numerical variables"
   ]
  },
  {
   "cell_type": "code",
   "execution_count": 15,
   "metadata": {},
   "outputs": [
    {
     "data": {
      "text/html": [
       "<div>\n",
       "<style>\n",
       "    .dataframe thead tr:only-child th {\n",
       "        text-align: right;\n",
       "    }\n",
       "\n",
       "    .dataframe thead th {\n",
       "        text-align: left;\n",
       "    }\n",
       "\n",
       "    .dataframe tbody tr th {\n",
       "        vertical-align: top;\n",
       "    }\n",
       "</style>\n",
       "<table border=\"1\" class=\"dataframe\">\n",
       "  <thead>\n",
       "    <tr style=\"text-align: right;\">\n",
       "      <th></th>\n",
       "      <th>0</th>\n",
       "      <th>1</th>\n",
       "      <th>2</th>\n",
       "      <th>3</th>\n",
       "      <th>4</th>\n",
       "      <th>5</th>\n",
       "      <th>6</th>\n",
       "    </tr>\n",
       "  </thead>\n",
       "  <tbody>\n",
       "    <tr>\n",
       "      <th>0</th>\n",
       "      <td>0.010101</td>\n",
       "      <td>0.352273</td>\n",
       "      <td>0.121405</td>\n",
       "      <td>0.054197</td>\n",
       "      <td>0.057373</td>\n",
       "      <td>0.001980</td>\n",
       "      <td>0.054197</td>\n",
       "    </tr>\n",
       "    <tr>\n",
       "      <th>1</th>\n",
       "      <td>0.010101</td>\n",
       "      <td>0.352273</td>\n",
       "      <td>0.102179</td>\n",
       "      <td>0.031696</td>\n",
       "      <td>0.036091</td>\n",
       "      <td>0.001980</td>\n",
       "      <td>0.031696</td>\n",
       "    </tr>\n",
       "    <tr>\n",
       "      <th>2</th>\n",
       "      <td>0.010101</td>\n",
       "      <td>0.329545</td>\n",
       "      <td>0.028903</td>\n",
       "      <td>0.015246</td>\n",
       "      <td>0.039567</td>\n",
       "      <td>0.001980</td>\n",
       "      <td>0.015246</td>\n",
       "    </tr>\n",
       "    <tr>\n",
       "      <th>3</th>\n",
       "      <td>0.010101</td>\n",
       "      <td>0.329545</td>\n",
       "      <td>0.021647</td>\n",
       "      <td>0.011591</td>\n",
       "      <td>0.030296</td>\n",
       "      <td>0.001980</td>\n",
       "      <td>0.011591</td>\n",
       "    </tr>\n",
       "    <tr>\n",
       "      <th>4</th>\n",
       "      <td>0.010101</td>\n",
       "      <td>0.579545</td>\n",
       "      <td>0.032501</td>\n",
       "      <td>0.027735</td>\n",
       "      <td>0.041378</td>\n",
       "      <td>0.002669</td>\n",
       "      <td>0.027735</td>\n",
       "    </tr>\n",
       "  </tbody>\n",
       "</table>\n",
       "</div>"
      ],
      "text/plain": [
       "          0         1         2         3         4         5         6\n",
       "0  0.010101  0.352273  0.121405  0.054197  0.057373  0.001980  0.054197\n",
       "1  0.010101  0.352273  0.102179  0.031696  0.036091  0.001980  0.031696\n",
       "2  0.010101  0.329545  0.028903  0.015246  0.039567  0.001980  0.015246\n",
       "3  0.010101  0.329545  0.021647  0.011591  0.030296  0.001980  0.011591\n",
       "4  0.010101  0.579545  0.032501  0.027735  0.041378  0.002669  0.027735"
      ]
     },
     "execution_count": 15,
     "metadata": {},
     "output_type": "execute_result"
    }
   ],
   "source": [
    "# scaling numerical input data\n",
    "# http://scikit-learn.org/stable/auto_examples/preprocessing/plot_all_scaling.html#sphx-glr-auto-examples-preprocessing-plot-all-scaling-py\n",
    "X2 = df[['Cars', 'Age', 'AIVTT', 'ACOST', 'TransUtil', 'TransPrice', 'Distance']]\n",
    "\n",
    "# from sklearn.preprocessing import scale\n",
    "# X2 = scale(X2.values)\n",
    "\n",
    "from sklearn.preprocessing import MinMaxScaler\n",
    "scaler = MinMaxScaler()\n",
    "scaled_df = scaler.fit_transform(X2)\n",
    "X2 = pd.DataFrame(scaled_df)\n",
    "\n",
    "# from sklearn.preprocessing import minmax_scale\n",
    "# from sklearn.preprocessing import MaxAbsScaler\n",
    "# from sklearn.preprocessing import StandardScaler\n",
    "# from sklearn.preprocessing import RobustScaler\n",
    "# from sklearn.preprocessing import Normalizer\n",
    "# from sklearn.preprocessing.data import QuantileTransformer\n",
    "\n",
    "X2.head()"
   ]
  },
  {
   "cell_type": "code",
   "execution_count": 16,
   "metadata": {},
   "outputs": [
    {
     "data": {
      "text/plain": [
       "(437183, 7)"
      ]
     },
     "execution_count": 16,
     "metadata": {},
     "output_type": "execute_result"
    }
   ],
   "source": [
    "X2.shape"
   ]
  },
  {
   "cell_type": "code",
   "execution_count": 17,
   "metadata": {},
   "outputs": [
    {
     "data": {
      "text/plain": [
       "(437183, 49)"
      ]
     },
     "execution_count": 17,
     "metadata": {},
     "output_type": "execute_result"
    }
   ],
   "source": [
    "# Concatinating the encoded categorical features with the numerical features\n",
    "X = np.concatenate((X_enc, X2),axis=1)\n",
    "X.shape"
   ]
  },
  {
   "cell_type": "markdown",
   "metadata": {},
   "source": [
    "### Splitting data into train and test"
   ]
  },
  {
   "cell_type": "code",
   "execution_count": 18,
   "metadata": {
    "collapsed": true
   },
   "outputs": [],
   "source": [
    "from sklearn.model_selection import train_test_split\n",
    "x_train, x_test, y_train, y_test = train_test_split(X, Y, test_size = 0.3, random_state=0)"
   ]
  },
  {
   "cell_type": "markdown",
   "metadata": {},
   "source": [
    "## Network Topology"
   ]
  },
  {
   "cell_type": "markdown",
   "metadata": {},
   "source": [
    "One input layer - 49 features (~ , 49) <br>\n",
    "Four hidden layers - each 256 neurons (49, 256) (256, 256) (256, 5) <br>\n",
    "One output layer - 5 neurons for 5 types of modes (5, ~) "
   ]
  },
  {
   "cell_type": "markdown",
   "metadata": {},
   "source": [
    "### Building model"
   ]
  },
  {
   "cell_type": "code",
   "execution_count": 19,
   "metadata": {
    "collapsed": true
   },
   "outputs": [],
   "source": [
    "num_classes = 5 # number of transportation modes to be predicted in the model\n",
    "# {0:'C', 1:'D', 2:'M' , 3:'T' , 4:'W'}\n",
    "\n",
    "# note: using Dropout between layers to Prevent Neural Networks from Overfitting\n",
    "# Dropout is a technique where randomly selected neurons are ignored during training. \n",
    "model = Sequential()\n",
    "model.add(Dense(256, activation='relu', input_dim=49))\n",
    "model.add(Dropout(0.2))\n",
    "model.add(Dense(256, activation='relu'))\n",
    "model.add(Dropout(0.2))\n",
    "model.add(Dense(256, activation='relu'))\n",
    "model.add(Dropout(0.2))\n",
    "model.add(Dense(256, activation='relu'))\n",
    "model.add(Dropout(0.2))\n",
    "model.add(Dense(num_classes, activation='softmax'))"
   ]
  },
  {
   "cell_type": "code",
   "execution_count": 20,
   "metadata": {
    "scrolled": true
   },
   "outputs": [
    {
     "name": "stdout",
     "output_type": "stream",
     "text": [
      "Train on 306028 samples, validate on 131155 samples\n",
      "Epoch 1/50\n",
      "10s - loss: 0.3459 - acc: 0.8943 - val_loss: 0.2922 - val_acc: 0.9086\n",
      "Epoch 2/50\n",
      "9s - loss: 0.2919 - acc: 0.9087 - val_loss: 0.2672 - val_acc: 0.9152\n",
      "Epoch 3/50\n",
      "10s - loss: 0.2720 - acc: 0.9143 - val_loss: 0.2531 - val_acc: 0.9189\n",
      "Epoch 4/50\n",
      "10s - loss: 0.2607 - acc: 0.9174 - val_loss: 0.2465 - val_acc: 0.9218\n",
      "Epoch 5/50\n",
      "10s - loss: 0.2534 - acc: 0.9196 - val_loss: 0.2448 - val_acc: 0.9225\n",
      "Epoch 6/50\n",
      "10s - loss: 0.2492 - acc: 0.9209 - val_loss: 0.2391 - val_acc: 0.9240\n",
      "Epoch 7/50\n",
      "10s - loss: 0.2464 - acc: 0.9220 - val_loss: 0.2408 - val_acc: 0.9241\n",
      "Epoch 8/50\n",
      "10s - loss: 0.2436 - acc: 0.9228 - val_loss: 0.2388 - val_acc: 0.9236\n",
      "Epoch 9/50\n",
      "9s - loss: 0.2418 - acc: 0.9235 - val_loss: 0.2461 - val_acc: 0.9225\n",
      "Epoch 10/50\n",
      "12s - loss: 0.2398 - acc: 0.9243 - val_loss: 0.2406 - val_acc: 0.9225\n",
      "Epoch 11/50\n",
      "12s - loss: 0.2387 - acc: 0.9245 - val_loss: 0.2353 - val_acc: 0.9249\n",
      "Epoch 12/50\n",
      "10s - loss: 0.2376 - acc: 0.9243 - val_loss: 0.2344 - val_acc: 0.9256\n",
      "Epoch 13/50\n",
      "10s - loss: 0.2361 - acc: 0.9252 - val_loss: 0.2329 - val_acc: 0.9255\n",
      "Epoch 14/50\n",
      "9s - loss: 0.2343 - acc: 0.9253 - val_loss: 0.2376 - val_acc: 0.9239\n",
      "Epoch 15/50\n",
      "9s - loss: 0.2320 - acc: 0.9258 - val_loss: 0.2294 - val_acc: 0.9262\n",
      "Epoch 16/50\n",
      "10s - loss: 0.2317 - acc: 0.9259 - val_loss: 0.2286 - val_acc: 0.9265\n",
      "Epoch 17/50\n",
      "9s - loss: 0.2309 - acc: 0.9262 - val_loss: 0.2308 - val_acc: 0.9258\n",
      "Epoch 18/50\n",
      "9s - loss: 0.2294 - acc: 0.9265 - val_loss: 0.2304 - val_acc: 0.9258\n",
      "Epoch 19/50\n",
      "9s - loss: 0.2292 - acc: 0.9264 - val_loss: 0.2291 - val_acc: 0.9261\n",
      "Epoch 20/50\n",
      "9s - loss: 0.2284 - acc: 0.9266 - val_loss: 0.2307 - val_acc: 0.9256\n",
      "Epoch 21/50\n",
      "10s - loss: 0.2273 - acc: 0.9271 - val_loss: 0.2302 - val_acc: 0.9269\n",
      "Epoch 22/50\n",
      "10s - loss: 0.2266 - acc: 0.9269 - val_loss: 0.2291 - val_acc: 0.9262\n",
      "Epoch 23/50\n",
      "9s - loss: 0.2255 - acc: 0.9271 - val_loss: 0.2307 - val_acc: 0.9268\n",
      "Epoch 24/50\n",
      "9s - loss: 0.2252 - acc: 0.9274 - val_loss: 0.2289 - val_acc: 0.9259\n",
      "Epoch 25/50\n",
      "10s - loss: 0.2245 - acc: 0.9275 - val_loss: 0.2276 - val_acc: 0.9265\n",
      "Epoch 26/50\n",
      "10s - loss: 0.2234 - acc: 0.9276 - val_loss: 0.2267 - val_acc: 0.9267\n",
      "Epoch 27/50\n",
      "10s - loss: 0.2228 - acc: 0.9280 - val_loss: 0.2269 - val_acc: 0.9269\n",
      "Epoch 28/50\n",
      "10s - loss: 0.2228 - acc: 0.9279 - val_loss: 0.2288 - val_acc: 0.9263\n",
      "Epoch 29/50\n",
      "10s - loss: 0.2217 - acc: 0.9283 - val_loss: 0.2270 - val_acc: 0.9265\n",
      "Epoch 30/50\n",
      "10s - loss: 0.2215 - acc: 0.9283 - val_loss: 0.2278 - val_acc: 0.9266\n",
      "Epoch 31/50\n",
      "10s - loss: 0.2209 - acc: 0.9287 - val_loss: 0.2279 - val_acc: 0.9261\n",
      "Epoch 32/50\n",
      "9s - loss: 0.2201 - acc: 0.9284 - val_loss: 0.2280 - val_acc: 0.9267\n",
      "Epoch 33/50\n",
      "9s - loss: 0.2198 - acc: 0.9285 - val_loss: 0.2263 - val_acc: 0.9269\n",
      "Epoch 34/50\n",
      "10s - loss: 0.2194 - acc: 0.9283 - val_loss: 0.2278 - val_acc: 0.9267\n",
      "Epoch 35/50\n",
      "9s - loss: 0.2191 - acc: 0.9287 - val_loss: 0.2271 - val_acc: 0.9272\n",
      "Epoch 36/50\n",
      "9s - loss: 0.2184 - acc: 0.9287 - val_loss: 0.2259 - val_acc: 0.9272\n",
      "Epoch 37/50\n",
      "9s - loss: 0.2178 - acc: 0.9289 - val_loss: 0.2274 - val_acc: 0.9263\n",
      "Epoch 38/50\n",
      "9s - loss: 0.2181 - acc: 0.9292 - val_loss: 0.2281 - val_acc: 0.9253\n",
      "Epoch 39/50\n",
      "9s - loss: 0.2171 - acc: 0.9292 - val_loss: 0.2280 - val_acc: 0.9267\n",
      "Epoch 40/50\n",
      "9s - loss: 0.2170 - acc: 0.9289 - val_loss: 0.2268 - val_acc: 0.9271\n",
      "Epoch 41/50\n",
      "10s - loss: 0.2168 - acc: 0.9292 - val_loss: 0.2251 - val_acc: 0.9272\n",
      "Epoch 42/50\n",
      "11s - loss: 0.2160 - acc: 0.9294 - val_loss: 0.2256 - val_acc: 0.9267\n",
      "Epoch 43/50\n",
      "10s - loss: 0.2159 - acc: 0.9297 - val_loss: 0.2287 - val_acc: 0.9266\n",
      "Epoch 44/50\n",
      "10s - loss: 0.2156 - acc: 0.9296 - val_loss: 0.2290 - val_acc: 0.9264\n",
      "Epoch 45/50\n",
      "10s - loss: 0.2151 - acc: 0.9294 - val_loss: 0.2285 - val_acc: 0.9267\n",
      "Epoch 46/50\n",
      "10s - loss: 0.2147 - acc: 0.9295 - val_loss: 0.2259 - val_acc: 0.9273\n",
      "Epoch 47/50\n",
      "10s - loss: 0.2147 - acc: 0.9298 - val_loss: 0.2282 - val_acc: 0.9264\n",
      "Epoch 48/50\n",
      "10s - loss: 0.2142 - acc: 0.9297 - val_loss: 0.2266 - val_acc: 0.9272\n",
      "Epoch 49/50\n",
      "10s - loss: 0.2141 - acc: 0.9301 - val_loss: 0.2285 - val_acc: 0.9268\n",
      "Epoch 50/50\n",
      "10s - loss: 0.2136 - acc: 0.9298 - val_loss: 0.2274 - val_acc: 0.9264\n"
     ]
    }
   ],
   "source": [
    "model.compile(loss='categorical_crossentropy', optimizer='adam', metrics=['accuracy'])\n",
    "model_fitted = model.fit(x_train, y_train, batch_size=500, epochs=50, validation_data=[x_test, y_test], verbose=2, shuffle=True)"
   ]
  },
  {
   "cell_type": "markdown",
   "metadata": {},
   "source": [
    "## Model Summery"
   ]
  },
  {
   "cell_type": "code",
   "execution_count": 21,
   "metadata": {},
   "outputs": [
    {
     "name": "stdout",
     "output_type": "stream",
     "text": [
      "_________________________________________________________________\n",
      "Layer (type)                 Output Shape              Param #   \n",
      "=================================================================\n",
      "dense_1 (Dense)              (None, 256)               12800     \n",
      "_________________________________________________________________\n",
      "dropout_1 (Dropout)          (None, 256)               0         \n",
      "_________________________________________________________________\n",
      "dense_2 (Dense)              (None, 256)               65792     \n",
      "_________________________________________________________________\n",
      "dropout_2 (Dropout)          (None, 256)               0         \n",
      "_________________________________________________________________\n",
      "dense_3 (Dense)              (None, 256)               65792     \n",
      "_________________________________________________________________\n",
      "dropout_3 (Dropout)          (None, 256)               0         \n",
      "_________________________________________________________________\n",
      "dense_4 (Dense)              (None, 256)               65792     \n",
      "_________________________________________________________________\n",
      "dropout_4 (Dropout)          (None, 256)               0         \n",
      "_________________________________________________________________\n",
      "dense_5 (Dense)              (None, 5)                 1285      \n",
      "=================================================================\n",
      "Total params: 211,461\n",
      "Trainable params: 211,461\n",
      "Non-trainable params: 0\n",
      "_________________________________________________________________\n",
      "dict_keys(['val_loss', 'val_acc', 'loss', 'acc'])\n"
     ]
    }
   ],
   "source": [
    "model.summary()\n",
    "print(model_fitted.history.keys())"
   ]
  },
  {
   "cell_type": "markdown",
   "metadata": {},
   "source": [
    "## Model Validation"
   ]
  },
  {
   "cell_type": "markdown",
   "metadata": {},
   "source": [
    "### Plot Loss vs epoch"
   ]
  },
  {
   "cell_type": "code",
   "execution_count": 22,
   "metadata": {
    "scrolled": false
   },
   "outputs": [
    {
     "data": {
      "image/png": "[encoded data removed]",
      "text/plain": [
       "<matplotlib.figure.Figure at 0x11a2df358>"
      ]
     },
     "metadata": {},
     "output_type": "display_data"
    }
   ],
   "source": [
    "plt.figure(figsize=(14, 8))\n",
    "plt.plot(model_fitted.history['loss'], color = \"green\")\n",
    "plt.plot(model_fitted.history['val_loss'], color = \"red\")\n",
    "plt.title('Model Loss')\n",
    "plt.ylabel('loss')\n",
    "plt.xlabel('epoch')\n",
    "plt.legend(['train loss', 'validation loss'], loc='upper right')\n",
    "plt.show()"
   ]
  },
  {
   "cell_type": "markdown",
   "metadata": {},
   "source": [
    "### Plot Accuracy vs. epoch"
   ]
  },
  {
   "cell_type": "code",
   "execution_count": 23,
   "metadata": {},
   "outputs": [
    {
     "data": {
      "image/png": "[encoded data removed]",
      "text/plain": [
       "<matplotlib.figure.Figure at 0x11a2df198>"
      ]
     },
     "metadata": {},
     "output_type": "display_data"
    }
   ],
   "source": [
    "plt.figure(figsize=(14, 8))\n",
    "plt.plot(model_fitted.history['acc'], color = \"green\")\n",
    "plt.plot(model_fitted.history['val_acc'], color = \"red\")\n",
    "plt.title('Model Accuracy')\n",
    "plt.ylabel('accuracy')\n",
    "plt.xlabel('epoch')\n",
    "plt.legend(['train accuracy', 'validation accuracy'], loc='lower right')\n",
    "plt.show()"
   ]
  },
  {
   "cell_type": "markdown",
   "metadata": {},
   "source": [
    "## Predict training data set"
   ]
  },
  {
   "cell_type": "code",
   "execution_count": 24,
   "metadata": {
    "collapsed": true
   },
   "outputs": [],
   "source": [
    "predict_train = model.predict(x_train)"
   ]
  },
  {
   "cell_type": "code",
   "execution_count": 25,
   "metadata": {},
   "outputs": [
    {
     "data": {
      "text/html": [
       "<div>\n",
       "<style>\n",
       "    .dataframe thead tr:only-child th {\n",
       "        text-align: right;\n",
       "    }\n",
       "\n",
       "    .dataframe thead th {\n",
       "        text-align: left;\n",
       "    }\n",
       "\n",
       "    .dataframe tbody tr th {\n",
       "        vertical-align: top;\n",
       "    }\n",
       "</style>\n",
       "<table border=\"1\" class=\"dataframe\">\n",
       "  <thead>\n",
       "    <tr style=\"text-align: right;\">\n",
       "      <th></th>\n",
       "      <th>modeChoice_observed</th>\n",
       "      <th>modeChoice_predicted</th>\n",
       "    </tr>\n",
       "  </thead>\n",
       "  <tbody>\n",
       "    <tr>\n",
       "      <th>0</th>\n",
       "      <td>D</td>\n",
       "      <td>D</td>\n",
       "    </tr>\n",
       "    <tr>\n",
       "      <th>1</th>\n",
       "      <td>T</td>\n",
       "      <td>T</td>\n",
       "    </tr>\n",
       "    <tr>\n",
       "      <th>2</th>\n",
       "      <td>D</td>\n",
       "      <td>D</td>\n",
       "    </tr>\n",
       "    <tr>\n",
       "      <th>3</th>\n",
       "      <td>D</td>\n",
       "      <td>D</td>\n",
       "    </tr>\n",
       "    <tr>\n",
       "      <th>4</th>\n",
       "      <td>D</td>\n",
       "      <td>D</td>\n",
       "    </tr>\n",
       "  </tbody>\n",
       "</table>\n",
       "</div>"
      ],
      "text/plain": [
       "  modeChoice_observed modeChoice_predicted\n",
       "0                   D                    D\n",
       "1                   T                    T\n",
       "2                   D                    D\n",
       "3                   D                    D\n",
       "4                   D                    D"
      ]
     },
     "execution_count": 25,
     "metadata": {},
     "output_type": "execute_result"
    }
   ],
   "source": [
    "Mode_cat = {0:'C', 1:'D', 2:'M' , 3:'T' , 4:'W'}\n",
    "y_train_df = []\n",
    "modeChoice_observed = []\n",
    "modeChoice_predicted = []\n",
    "\n",
    "for i in range (0, predict_train.shape[0]):\n",
    "    modeChoice_predicted.append(Mode_cat[np.argmax(predict_train[i])])\n",
    "    modeChoice_observed.append(Mode_cat[np.argmax(y_train[i])])\n",
    "\n",
    "y_train_df = pd.DataFrame({'modeChoice_observed':modeChoice_observed,\n",
    "              'modeChoice_predicted':modeChoice_predicted})    \n",
    "y_train_df.head()"
   ]
  },
  {
   "cell_type": "markdown",
   "metadata": {},
   "source": [
    "### Accuracy assessment"
   ]
  },
  {
   "cell_type": "code",
   "execution_count": 26,
   "metadata": {},
   "outputs": [
    {
     "name": "stdout",
     "output_type": "stream",
     "text": [
      "Model Accuracy: 93.32%\n"
     ]
    }
   ],
   "source": [
    "# summarize performance of the model\n",
    "scores = model.evaluate(x_train,y_train, verbose=0)\n",
    "print(\"Model Accuracy: %.2f%%\" % (scores[1]*100))"
   ]
  },
  {
   "cell_type": "markdown",
   "metadata": {},
   "source": [
    "The overall accuracy of the model on the training and the validation dataset is 93.32%"
   ]
  },
  {
   "cell_type": "code",
   "execution_count": 28,
   "metadata": {},
   "outputs": [
    {
     "data": {
      "text/html": [
       "<div>\n",
       "<style>\n",
       "    .dataframe thead tr:only-child th {\n",
       "        text-align: right;\n",
       "    }\n",
       "\n",
       "    .dataframe thead th {\n",
       "        text-align: left;\n",
       "    }\n",
       "\n",
       "    .dataframe tbody tr th {\n",
       "        vertical-align: top;\n",
       "    }\n",
       "</style>\n",
       "<table border=\"1\" class=\"dataframe\">\n",
       "  <thead>\n",
       "    <tr style=\"text-align: right;\">\n",
       "      <th>modeChoice_predicted</th>\n",
       "      <th>C</th>\n",
       "      <th>D</th>\n",
       "      <th>T</th>\n",
       "      <th>W</th>\n",
       "    </tr>\n",
       "    <tr>\n",
       "      <th>modeChoice_observed</th>\n",
       "      <th></th>\n",
       "      <th></th>\n",
       "      <th></th>\n",
       "      <th></th>\n",
       "    </tr>\n",
       "  </thead>\n",
       "  <tbody>\n",
       "    <tr>\n",
       "      <th>C</th>\n",
       "      <td>427</td>\n",
       "      <td>1329</td>\n",
       "      <td>1138</td>\n",
       "      <td>753</td>\n",
       "    </tr>\n",
       "    <tr>\n",
       "      <th>D</th>\n",
       "      <td>21</td>\n",
       "      <td>240462</td>\n",
       "      <td>3408</td>\n",
       "      <td>611</td>\n",
       "    </tr>\n",
       "    <tr>\n",
       "      <th>M</th>\n",
       "      <td>0</td>\n",
       "      <td>225</td>\n",
       "      <td>14</td>\n",
       "      <td>0</td>\n",
       "    </tr>\n",
       "    <tr>\n",
       "      <th>T</th>\n",
       "      <td>91</td>\n",
       "      <td>6402</td>\n",
       "      <td>35110</td>\n",
       "      <td>2226</td>\n",
       "    </tr>\n",
       "    <tr>\n",
       "      <th>W</th>\n",
       "      <td>48</td>\n",
       "      <td>2436</td>\n",
       "      <td>1743</td>\n",
       "      <td>9584</td>\n",
       "    </tr>\n",
       "  </tbody>\n",
       "</table>\n",
       "</div>"
      ],
      "text/plain": [
       "modeChoice_predicted    C       D      T     W\n",
       "modeChoice_observed                           \n",
       "C                     427    1329   1138   753\n",
       "D                      21  240462   3408   611\n",
       "M                       0     225     14     0\n",
       "T                      91    6402  35110  2226\n",
       "W                      48    2436   1743  9584"
      ]
     },
     "execution_count": 28,
     "metadata": {},
     "output_type": "execute_result"
    }
   ],
   "source": [
    "pd.crosstab(y_train_df['modeChoice_observed'], y_train_df['modeChoice_predicted'])"
   ]
  },
  {
   "cell_type": "markdown",
   "metadata": {},
   "source": [
    "## Predict testing data set"
   ]
  },
  {
   "cell_type": "code",
   "execution_count": 29,
   "metadata": {
    "collapsed": true
   },
   "outputs": [],
   "source": [
    "predict_test = model.predict(x_test)"
   ]
  },
  {
   "cell_type": "code",
   "execution_count": 30,
   "metadata": {},
   "outputs": [
    {
     "data": {
      "text/plain": [
       "array([[  5.98022863e-02,   4.32873843e-03,   1.30691391e-09,\n",
       "          8.45473260e-02,   8.51321578e-01],\n",
       "       [  8.80576670e-04,   9.77457523e-01,   1.77114052e-04,\n",
       "          2.10170057e-02,   4.67813719e-04],\n",
       "       [  3.49007011e-03,   9.14594710e-01,   2.79923319e-04,\n",
       "          1.20789884e-03,   8.04273412e-02],\n",
       "       ..., \n",
       "       [  6.08734845e-04,   2.24773885e-06,   1.86974047e-12,\n",
       "          9.75772500e-01,   2.36165989e-02],\n",
       "       [  6.22702800e-02,   8.55738335e-07,   1.51366016e-15,\n",
       "          1.07476441e-02,   9.26981211e-01],\n",
       "       [  1.72229096e-01,   2.45127052e-01,   1.23866461e-03,\n",
       "          4.89205539e-01,   9.21996534e-02]], dtype=float32)"
      ]
     },
     "execution_count": 30,
     "metadata": {},
     "output_type": "execute_result"
    }
   ],
   "source": [
    "predict_test"
   ]
  },
  {
   "cell_type": "code",
   "execution_count": 31,
   "metadata": {},
   "outputs": [
    {
     "data": {
      "text/plain": [
       "(131155, 5)"
      ]
     },
     "execution_count": 31,
     "metadata": {},
     "output_type": "execute_result"
    }
   ],
   "source": [
    "predict_test.shape"
   ]
  },
  {
   "cell_type": "code",
   "execution_count": 32,
   "metadata": {},
   "outputs": [
    {
     "data": {
      "text/html": [
       "<div>\n",
       "<style>\n",
       "    .dataframe thead tr:only-child th {\n",
       "        text-align: right;\n",
       "    }\n",
       "\n",
       "    .dataframe thead th {\n",
       "        text-align: left;\n",
       "    }\n",
       "\n",
       "    .dataframe tbody tr th {\n",
       "        vertical-align: top;\n",
       "    }\n",
       "</style>\n",
       "<table border=\"1\" class=\"dataframe\">\n",
       "  <thead>\n",
       "    <tr style=\"text-align: right;\">\n",
       "      <th></th>\n",
       "      <th>modeChoice_observed</th>\n",
       "      <th>modeChoice_predicted</th>\n",
       "    </tr>\n",
       "  </thead>\n",
       "  <tbody>\n",
       "    <tr>\n",
       "      <th>0</th>\n",
       "      <td>W</td>\n",
       "      <td>W</td>\n",
       "    </tr>\n",
       "    <tr>\n",
       "      <th>1</th>\n",
       "      <td>D</td>\n",
       "      <td>D</td>\n",
       "    </tr>\n",
       "    <tr>\n",
       "      <th>2</th>\n",
       "      <td>D</td>\n",
       "      <td>D</td>\n",
       "    </tr>\n",
       "    <tr>\n",
       "      <th>3</th>\n",
       "      <td>D</td>\n",
       "      <td>D</td>\n",
       "    </tr>\n",
       "    <tr>\n",
       "      <th>4</th>\n",
       "      <td>D</td>\n",
       "      <td>D</td>\n",
       "    </tr>\n",
       "  </tbody>\n",
       "</table>\n",
       "</div>"
      ],
      "text/plain": [
       "  modeChoice_observed modeChoice_predicted\n",
       "0                   W                    W\n",
       "1                   D                    D\n",
       "2                   D                    D\n",
       "3                   D                    D\n",
       "4                   D                    D"
      ]
     },
     "execution_count": 32,
     "metadata": {},
     "output_type": "execute_result"
    }
   ],
   "source": [
    "y_test_df = []\n",
    "modeChoice_observed = []\n",
    "modeChoice_predicted = []\n",
    "\n",
    "for i in range (0, predict_test.shape[0]):\n",
    "    modeChoice_predicted.append(Mode_cat[np.argmax(predict_test[i])])\n",
    "    modeChoice_observed.append(Mode_cat[np.argmax(y_test[i])])\n",
    "\n",
    "y_test_df = pd.DataFrame({'modeChoice_observed':modeChoice_observed,\n",
    "              'modeChoice_predicted':modeChoice_predicted})    \n",
    "y_test_df.head()  "
   ]
  },
  {
   "cell_type": "code",
   "execution_count": 33,
   "metadata": {},
   "outputs": [
    {
     "data": {
      "text/html": [
       "<div>\n",
       "<style>\n",
       "    .dataframe thead tr:only-child th {\n",
       "        text-align: right;\n",
       "    }\n",
       "\n",
       "    .dataframe thead th {\n",
       "        text-align: left;\n",
       "    }\n",
       "\n",
       "    .dataframe tbody tr th {\n",
       "        vertical-align: top;\n",
       "    }\n",
       "</style>\n",
       "<table border=\"1\" class=\"dataframe\">\n",
       "  <thead>\n",
       "    <tr style=\"text-align: right;\">\n",
       "      <th>modeChoice_predicted</th>\n",
       "      <th>C</th>\n",
       "      <th>D</th>\n",
       "      <th>T</th>\n",
       "      <th>W</th>\n",
       "    </tr>\n",
       "    <tr>\n",
       "      <th>modeChoice_observed</th>\n",
       "      <th></th>\n",
       "      <th></th>\n",
       "      <th></th>\n",
       "      <th></th>\n",
       "    </tr>\n",
       "  </thead>\n",
       "  <tbody>\n",
       "    <tr>\n",
       "      <th>C</th>\n",
       "      <td>107</td>\n",
       "      <td>616</td>\n",
       "      <td>495</td>\n",
       "      <td>317</td>\n",
       "    </tr>\n",
       "    <tr>\n",
       "      <th>D</th>\n",
       "      <td>12</td>\n",
       "      <td>102500</td>\n",
       "      <td>1730</td>\n",
       "      <td>331</td>\n",
       "    </tr>\n",
       "    <tr>\n",
       "      <th>M</th>\n",
       "      <td>0</td>\n",
       "      <td>103</td>\n",
       "      <td>9</td>\n",
       "      <td>3</td>\n",
       "    </tr>\n",
       "    <tr>\n",
       "      <th>T</th>\n",
       "      <td>76</td>\n",
       "      <td>2983</td>\n",
       "      <td>14808</td>\n",
       "      <td>1043</td>\n",
       "    </tr>\n",
       "    <tr>\n",
       "      <th>W</th>\n",
       "      <td>32</td>\n",
       "      <td>1053</td>\n",
       "      <td>850</td>\n",
       "      <td>4087</td>\n",
       "    </tr>\n",
       "  </tbody>\n",
       "</table>\n",
       "</div>"
      ],
      "text/plain": [
       "modeChoice_predicted    C       D      T     W\n",
       "modeChoice_observed                           \n",
       "C                     107     616    495   317\n",
       "D                      12  102500   1730   331\n",
       "M                       0     103      9     3\n",
       "T                      76    2983  14808  1043\n",
       "W                      32    1053    850  4087"
      ]
     },
     "execution_count": 33,
     "metadata": {},
     "output_type": "execute_result"
    }
   ],
   "source": [
    "pd.crosstab(y_test_df['modeChoice_observed'], y_test_df['modeChoice_predicted'])"
   ]
  },
  {
   "cell_type": "code",
   "execution_count": null,
   "metadata": {
    "collapsed": true
   },
   "outputs": [],
   "source": []
  }
 ],
 "metadata": {
  "kernelspec": {
   "display_name": "Python 3",
   "language": "python",
   "name": "python3"
  },
  "language_info": {
   "codemirror_mode": {
    "name": "ipython",
    "version": 3
   },
   "file_extension": ".py",
   "mimetype": "text/x-python",
   "name": "python",
   "nbconvert_exporter": "python",
   "pygments_lexer": "ipython3",
   "version": "3.6.2"
  }
 },
 "nbformat": 4,
 "nbformat_minor": 2
}
