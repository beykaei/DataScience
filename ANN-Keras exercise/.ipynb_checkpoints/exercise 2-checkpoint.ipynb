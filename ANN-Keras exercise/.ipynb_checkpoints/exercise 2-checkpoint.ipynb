{
 "cells": [
  {
   "cell_type": "markdown",
   "metadata": {},
   "source": [
    "# Exercise 2"
   ]
  },
  {
   "cell_type": "markdown",
   "metadata": {},
   "source": [
    "### by: Ahad Beykaei"
   ]
  },
  {
   "cell_type": "markdown",
   "metadata": {},
   "source": [
    "## Problem Definition"
   ]
  },
  {
   "cell_type": "markdown",
   "metadata": {},
   "source": [
    "In this exercise, a machine learning problem called natural language processing (NLP) is practiced for the language classification purpose. The input variable of the observed data is texts which contains three languages including: `fr`, `es`, and `en`. Each row of the input variable is a sentence with the length of 40 characters. The training and the testing datasets are both in the csv format shown below:"
   ]
  },
  {
   "cell_type": "markdown",
   "metadata": {},
   "source": [
    "## Methodology"
   ]
  },
  {
   "cell_type": "markdown",
   "metadata": {},
   "source": [
    "This is a multi-class classification problem meaning that there are more than two classes to be predicted, in fact, there are three languages. An Artificial Neural Network (ANN) model is used to develop the classification model and to fit it on the training dataset. The testing dataset is then used to assess the power of the developed model in classifying other data into three recocnized languages. In this regard, Recurrent Neural Networks (RNNs) help us tackle sequential information like natural language. <br>\n",
    "RNNs can use their internal memory to process arbitrary sequences of inputs. In order to create the classification model, the structure of RNN model is designed with 1 input layer, 2 hidden layers (LSTM and Dense) with 10 neurons each, and 1 output layer with 3 neurons representing 3 target classes. For a better readability and visualization of the project the “Jupyter Notebook” is used on top of “Python” programming languages."
   ]
  },
  {
   "cell_type": "markdown",
   "metadata": {},
   "source": [
    "## Importing libraries"
   ]
  },
  {
   "cell_type": "code",
   "execution_count": 70,
   "metadata": {
    "collapsed": true
   },
   "outputs": [],
   "source": [
    "import numpy as np\n",
    "import pandas as pd\n",
    "import matplotlib.pyplot as plt\n",
    "from sklearn.model_selection import KFold\n",
    "from sklearn.model_selection import cross_val_score\n",
    "\n",
    "import keras\n",
    "from keras.models import Sequential\n",
    "from keras.layers import Dense, Dropout\n",
    "from keras.layers.recurrent import LSTM, GRU\n",
    "from keras.preprocessing.text import Tokenizer\n",
    "from keras.preprocessing import sequence"
   ]
  },
  {
   "cell_type": "markdown",
   "metadata": {},
   "source": [
    "## Find encoding format of the file "
   ]
  },
  {
   "cell_type": "code",
   "execution_count": 2,
   "metadata": {},
   "outputs": [
    {
     "name": "stdout",
     "output_type": "stream",
     "text": [
      "Windows-1252\n"
     ]
    }
   ],
   "source": [
    "with open('data_train_language.csv', 'rb') as f:\n",
    "    result = chardet.detect(f.read())\n",
    "    \n",
    "print(result['encoding'])"
   ]
  },
  {
   "cell_type": "markdown",
   "metadata": {},
   "source": [
    "## Loading data"
   ]
  },
  {
   "cell_type": "code",
   "execution_count": 3,
   "metadata": {
    "collapsed": true
   },
   "outputs": [],
   "source": [
    "df = pd.read_csv(\"data_train_language.csv\", encoding=result['encoding'])\n",
    "df_test = pd.read_csv(\"data_test_language_candidate.csv\", encoding=result['encoding'])"
   ]
  },
  {
   "cell_type": "code",
   "execution_count": 4,
   "metadata": {},
   "outputs": [
    {
     "data": {
      "text/html": [
       "<div>\n",
       "<style>\n",
       "    .dataframe thead tr:only-child th {\n",
       "        text-align: right;\n",
       "    }\n",
       "\n",
       "    .dataframe thead th {\n",
       "        text-align: left;\n",
       "    }\n",
       "\n",
       "    .dataframe tbody tr th {\n",
       "        vertical-align: top;\n",
       "    }\n",
       "</style>\n",
       "<table border=\"1\" class=\"dataframe\">\n",
       "  <thead>\n",
       "    <tr style=\"text-align: right;\">\n",
       "      <th></th>\n",
       "      <th>language</th>\n",
       "      <th>sentences</th>\n",
       "    </tr>\n",
       "  </thead>\n",
       "  <tbody>\n",
       "    <tr>\n",
       "      <th>0</th>\n",
       "      <td>fr</td>\n",
       "      <td>re j'accepte lapénitence; aux conditions</td>\n",
       "    </tr>\n",
       "    <tr>\n",
       "      <th>1</th>\n",
       "      <td>fr</td>\n",
       "      <td>, ne vous irritez point desimpertinences</td>\n",
       "    </tr>\n",
       "    <tr>\n",
       "      <th>2</th>\n",
       "      <td>es</td>\n",
       "      <td>a que se topó donQuijote en topar con un</td>\n",
       "    </tr>\n",
       "    <tr>\n",
       "      <th>3</th>\n",
       "      <td>fr</td>\n",
       "      <td>fameux Pierre de Provence jusqu'à prése</td>\n",
       "    </tr>\n",
       "    <tr>\n",
       "      <th>4</th>\n",
       "      <td>en</td>\n",
       "      <td>nimals. And then he went on at a tremend</td>\n",
       "    </tr>\n",
       "  </tbody>\n",
       "</table>\n",
       "</div>"
      ],
      "text/plain": [
       "  language                                 sentences\n",
       "0       fr  re j'accepte lapénitence; aux conditions\n",
       "1       fr  , ne vous irritez point desimpertinences\n",
       "2       es  a que se topó donQuijote en topar con un\n",
       "3       fr   fameux Pierre de Provence jusqu'à prése\n",
       "4       en  nimals. And then he went on at a tremend"
      ]
     },
     "execution_count": 4,
     "metadata": {},
     "output_type": "execute_result"
    }
   ],
   "source": [
    "df.head()"
   ]
  },
  {
   "cell_type": "code",
   "execution_count": 5,
   "metadata": {},
   "outputs": [
    {
     "data": {
      "text/html": [
       "<div>\n",
       "<style>\n",
       "    .dataframe thead tr:only-child th {\n",
       "        text-align: right;\n",
       "    }\n",
       "\n",
       "    .dataframe thead th {\n",
       "        text-align: left;\n",
       "    }\n",
       "\n",
       "    .dataframe tbody tr th {\n",
       "        vertical-align: top;\n",
       "    }\n",
       "</style>\n",
       "<table border=\"1\" class=\"dataframe\">\n",
       "  <thead>\n",
       "    <tr style=\"text-align: right;\">\n",
       "      <th></th>\n",
       "      <th>sentences</th>\n",
       "    </tr>\n",
       "  </thead>\n",
       "  <tbody>\n",
       "    <tr>\n",
       "      <th>0</th>\n",
       "      <td>ends la messe chaquejour; je donne aux p</td>\n",
       "    </tr>\n",
       "    <tr>\n",
       "      <th>1</th>\n",
       "      <td>si grièvement blessé, dit Sancho, voilà</td>\n",
       "    </tr>\n",
       "    <tr>\n",
       "      <th>2</th>\n",
       "      <td>ya no fuese queel vencedor hubiese perd</td>\n",
       "    </tr>\n",
       "    <tr>\n",
       "      <th>3</th>\n",
       "      <td>ospobres virtuosos y discretos tienen qu</td>\n",
       "    </tr>\n",
       "    <tr>\n",
       "      <th>4</th>\n",
       "      <td>í, ven: ayudarte he a subir donde dices.</td>\n",
       "    </tr>\n",
       "  </tbody>\n",
       "</table>\n",
       "</div>"
      ],
      "text/plain": [
       "                                  sentences\n",
       "0  ends la messe chaquejour; je donne aux p\n",
       "1  si grièvement blessé, dit Sancho, voilà \n",
       "2   ya no fuese queel vencedor hubiese perd\n",
       "3  ospobres virtuosos y discretos tienen qu\n",
       "4  í, ven: ayudarte he a subir donde dices."
      ]
     },
     "execution_count": 5,
     "metadata": {},
     "output_type": "execute_result"
    }
   ],
   "source": [
    "df_test.head()"
   ]
  },
  {
   "cell_type": "markdown",
   "metadata": {},
   "source": [
    "## Preparing the Tokenizer..."
   ]
  },
  {
   "cell_type": "code",
   "execution_count": 6,
   "metadata": {
    "collapsed": true
   },
   "outputs": [],
   "source": [
    "# chars = []\n",
    "# def prepare_chars(df):\n",
    "#     for sentence in df:\n",
    "#         for char in sentence:\n",
    "#             chars.append(char)\n",
    "# prepare_chars(df['sentences'])\n",
    "\n",
    "tokenizer = Tokenizer(num_words=None,\n",
    "                    filters='!\"#$%&()*+,-./:;<=>?@[\\\\]^_`{|}~\\t\\n',\n",
    "                    lower=True,\n",
    "                    split=\" \",\n",
    "                    char_level=False)\n",
    "tokenizer.fit_on_texts(df['sentences'])"
   ]
  },
  {
   "cell_type": "code",
   "execution_count": 83,
   "metadata": {
    "collapsed": true
   },
   "outputs": [],
   "source": [
    "word_index = tokenizer.word_index"
   ]
  },
  {
   "cell_type": "markdown",
   "metadata": {},
   "source": [
    "## Vectorizing sequence data"
   ]
  },
  {
   "cell_type": "markdown",
   "metadata": {},
   "source": [
    "Vectorization is a linear transformation which converts a matrix into a column vector. The aim of this step is to make the data understandable by RNN in the machine learning process. Each sentence of the input data is tokenized into matrix of letters encoded into of ‘0’ and ‘1’ which show the position of letters in the whole dataset. The output variable is also encoded into vectors. We then need to reshape the NumPy array of vectorized data into a format expected by the LSTM networks, that is [samples, time steps, features]. Because this is not a time series problem, the “time steps” parameter sets to 1."
   ]
  },
  {
   "cell_type": "markdown",
   "metadata": {},
   "source": [
    "### Vectorizing training data set"
   ]
  },
  {
   "cell_type": "code",
   "execution_count": 8,
   "metadata": {},
   "outputs": [
    {
     "name": "stdout",
     "output_type": "stream",
     "text": [
      "x_train shape: (10000, 1, 18986)\n"
     ]
    }
   ],
   "source": [
    "# vectorizing input data set\n",
    "x_train = tokenizer.texts_to_matrix(df['sentences'])\n",
    "\n",
    "# We need to reshape the NumPy array into a format expected by the LSTM networks, \n",
    "# that is [samples, time steps, features].\n",
    "x_train = np.reshape(x_train, (x_train.shape[0], 1, x_train.shape[1]))\n",
    "\n",
    "print('x_train shape:', x_train.shape)"
   ]
  },
  {
   "cell_type": "code",
   "execution_count": 9,
   "metadata": {},
   "outputs": [
    {
     "name": "stdout",
     "output_type": "stream",
     "text": [
      "[[[ 0.  0.  0. ...,  0.  0.  0.]]\n",
      "\n",
      " [[ 0.  0.  0. ...,  0.  0.  0.]]\n",
      "\n",
      " [[ 0.  0.  1. ...,  0.  0.  0.]]\n",
      "\n",
      " ..., \n",
      " [[ 0.  0.  0. ...,  0.  0.  0.]]\n",
      "\n",
      " [[ 0.  1.  0. ...,  1.  0.  0.]]\n",
      "\n",
      " [[ 0.  0.  0. ...,  0.  1.  1.]]]\n"
     ]
    }
   ],
   "source": [
    "print(x_train)"
   ]
  },
  {
   "cell_type": "code",
   "execution_count": 61,
   "metadata": {
    "collapsed": true
   },
   "outputs": [],
   "source": [
    "# convert target categorical data into code\n",
    "df.language = pd.Categorical(df.language)\n",
    "df['language2'] = df.language.cat.codes\n",
    "\n",
    "# dictionary of language category in codes to be used for accuracy assessment\n",
    "lan_cat = {0:'en', 1:'es', 2:'fr'}"
   ]
  },
  {
   "cell_type": "code",
   "execution_count": 11,
   "metadata": {},
   "outputs": [
    {
     "name": "stdout",
     "output_type": "stream",
     "text": [
      "y_train shape: (10000, 1, 3)\n",
      "[[[ 0.  0.  1.]]\n",
      "\n",
      " [[ 0.  0.  1.]]\n",
      "\n",
      " [[ 0.  1.  0.]]\n",
      "\n",
      " ..., \n",
      " [[ 1.  0.  0.]]\n",
      "\n",
      " [[ 0.  0.  1.]]\n",
      "\n",
      " [[ 1.  0.  0.]]]\n"
     ]
    }
   ],
   "source": [
    "# vectorizing output data set\n",
    "y_train = keras.utils.to_categorical(df['language2'], 3)\n",
    "y_train = np.reshape(y_train, (y_train.shape[0], 1, y_train.shape[1]))\n",
    "\n",
    "print('y_train shape:', y_train.shape)\n",
    "print(y_train)"
   ]
  },
  {
   "cell_type": "markdown",
   "metadata": {},
   "source": [
    "### Vectorizing testing data set"
   ]
  },
  {
   "cell_type": "code",
   "execution_count": 12,
   "metadata": {},
   "outputs": [
    {
     "name": "stdout",
     "output_type": "stream",
     "text": [
      "x_test shape: (5000, 1, 18986)\n"
     ]
    }
   ],
   "source": [
    "x_test = tokenizer.texts_to_matrix(df_test['sentences'])\n",
    "x_test = np.reshape(x_test, (x_test.shape[0], 1, x_test.shape[1]))\n",
    "print('x_test shape:', x_test.shape)"
   ]
  },
  {
   "cell_type": "markdown",
   "metadata": {},
   "source": [
    "## Building model"
   ]
  },
  {
   "cell_type": "code",
   "execution_count": 13,
   "metadata": {
    "collapsed": true
   },
   "outputs": [],
   "source": [
    "# 3 classes en, fr, es\n",
    "num_classes = 3\n",
    "size1 = x_train.shape[0] # 10000\n",
    "size2 = x_train.shape[1] # 1\n",
    "size3 = x_train.shape[2] # 18986\n",
    "\n",
    "# note: using Dropout between layers to Prevent Neural Networks from Overfitting\n",
    "# Dropout is a technique where randomly selected neurons are ignored during training. \n",
    "model = Sequential()\n",
    "model.add(LSTM(10, input_shape=(size2, size3), return_sequences=True, activation='relu'))\n",
    "model.add(Dropout(0.1))\n",
    "model.add(Dense(10, activation='relu'))\n",
    "model.add(Dropout(0.1))\n",
    "model.add(Dense(num_classes, activation='softmax'))"
   ]
  },
  {
   "cell_type": "code",
   "execution_count": 14,
   "metadata": {},
   "outputs": [
    {
     "name": "stdout",
     "output_type": "stream",
     "text": [
      "Train on 8000 samples, validate on 2000 samples\n",
      "Epoch 1/50\n",
      "8000/8000 [==============================] - 3s - loss: 1.0102 - acc: 0.7589 - val_loss: 0.8938 - val_acc: 0.8775\n",
      "Epoch 2/50\n",
      "8000/8000 [==============================] - 2s - loss: 0.7731 - acc: 0.8581 - val_loss: 0.6157 - val_acc: 0.8880\n",
      "Epoch 3/50\n",
      "8000/8000 [==============================] - 2s - loss: 0.5080 - acc: 0.8713 - val_loss: 0.3719 - val_acc: 0.8920\n",
      "Epoch 4/50\n",
      "8000/8000 [==============================] - 2s - loss: 0.3208 - acc: 0.8892 - val_loss: 0.2333 - val_acc: 0.9315\n",
      "Epoch 5/50\n",
      "8000/8000 [==============================] - 2s - loss: 0.2122 - acc: 0.9398 - val_loss: 0.1568 - val_acc: 0.9705\n",
      "Epoch 6/50\n",
      "8000/8000 [==============================] - 2s - loss: 0.1400 - acc: 0.9708 - val_loss: 0.1092 - val_acc: 0.9810\n",
      "Epoch 7/50\n",
      "8000/8000 [==============================] - 2s - loss: 0.0930 - acc: 0.9821 - val_loss: 0.0804 - val_acc: 0.9840\n",
      "Epoch 8/50\n",
      "8000/8000 [==============================] - 2s - loss: 0.0691 - acc: 0.9860 - val_loss: 0.0647 - val_acc: 0.9875\n",
      "Epoch 9/50\n",
      "8000/8000 [==============================] - 2s - loss: 0.0539 - acc: 0.9899 - val_loss: 0.0561 - val_acc: 0.9875\n",
      "Epoch 10/50\n",
      "8000/8000 [==============================] - 2s - loss: 0.0411 - acc: 0.9914 - val_loss: 0.0522 - val_acc: 0.9870\n",
      "Epoch 11/50\n",
      "8000/8000 [==============================] - 2s - loss: 0.0323 - acc: 0.9930 - val_loss: 0.0500 - val_acc: 0.9865\n",
      "Epoch 12/50\n",
      "8000/8000 [==============================] - 2s - loss: 0.0291 - acc: 0.9940 - val_loss: 0.0486 - val_acc: 0.9865\n",
      "Epoch 13/50\n",
      "8000/8000 [==============================] - 2s - loss: 0.0237 - acc: 0.9943 - val_loss: 0.0495 - val_acc: 0.9870\n",
      "Epoch 14/50\n",
      "8000/8000 [==============================] - 2s - loss: 0.0213 - acc: 0.9944 - val_loss: 0.0481 - val_acc: 0.9865\n",
      "Epoch 15/50\n",
      "8000/8000 [==============================] - 2s - loss: 0.0170 - acc: 0.9965 - val_loss: 0.0479 - val_acc: 0.9870\n",
      "Epoch 16/50\n",
      "8000/8000 [==============================] - 2s - loss: 0.0165 - acc: 0.9958 - val_loss: 0.0497 - val_acc: 0.9870\n",
      "Epoch 17/50\n",
      "8000/8000 [==============================] - 2s - loss: 0.0179 - acc: 0.9961 - val_loss: 0.0498 - val_acc: 0.9880\n",
      "Epoch 18/50\n",
      "8000/8000 [==============================] - 2s - loss: 0.0136 - acc: 0.9963 - val_loss: 0.0525 - val_acc: 0.9875\n",
      "Epoch 19/50\n",
      "8000/8000 [==============================] - 2s - loss: 0.0142 - acc: 0.9958 - val_loss: 0.0487 - val_acc: 0.9860\n",
      "Epoch 20/50\n",
      "8000/8000 [==============================] - 2s - loss: 0.0113 - acc: 0.9978 - val_loss: 0.0493 - val_acc: 0.9865\n",
      "Epoch 21/50\n",
      "8000/8000 [==============================] - 2s - loss: 0.0113 - acc: 0.9975 - val_loss: 0.0502 - val_acc: 0.9875\n",
      "Epoch 22/50\n",
      "8000/8000 [==============================] - 2s - loss: 0.0105 - acc: 0.9966 - val_loss: 0.0488 - val_acc: 0.9855\n",
      "Epoch 23/50\n",
      "8000/8000 [==============================] - 2s - loss: 0.0083 - acc: 0.9979 - val_loss: 0.0537 - val_acc: 0.9870\n",
      "Epoch 24/50\n",
      "8000/8000 [==============================] - 2s - loss: 0.0090 - acc: 0.9976 - val_loss: 0.0537 - val_acc: 0.9870\n",
      "Epoch 25/50\n",
      "8000/8000 [==============================] - 2s - loss: 0.0088 - acc: 0.9975 - val_loss: 0.0525 - val_acc: 0.9870\n",
      "Epoch 26/50\n",
      "8000/8000 [==============================] - 2s - loss: 0.0087 - acc: 0.9971 - val_loss: 0.0536 - val_acc: 0.9860\n",
      "Epoch 27/50\n",
      "8000/8000 [==============================] - 2s - loss: 0.0080 - acc: 0.9973 - val_loss: 0.0530 - val_acc: 0.9860\n",
      "Epoch 28/50\n",
      "8000/8000 [==============================] - 2s - loss: 0.0082 - acc: 0.9974 - val_loss: 0.0548 - val_acc: 0.9850\n",
      "Epoch 29/50\n",
      "8000/8000 [==============================] - 2s - loss: 0.0083 - acc: 0.9975 - val_loss: 0.0567 - val_acc: 0.9850\n",
      "Epoch 30/50\n",
      "8000/8000 [==============================] - 2s - loss: 0.0068 - acc: 0.9978 - val_loss: 0.0580 - val_acc: 0.9845\n",
      "Epoch 31/50\n",
      "8000/8000 [==============================] - 2s - loss: 0.0062 - acc: 0.9979 - val_loss: 0.0599 - val_acc: 0.9845\n",
      "Epoch 32/50\n",
      "8000/8000 [==============================] - 2s - loss: 0.0061 - acc: 0.9978 - val_loss: 0.0588 - val_acc: 0.9840\n",
      "Epoch 33/50\n",
      "8000/8000 [==============================] - 2s - loss: 0.0058 - acc: 0.9983 - val_loss: 0.0594 - val_acc: 0.9840\n",
      "Epoch 34/50\n",
      "8000/8000 [==============================] - 2s - loss: 0.0046 - acc: 0.9985 - val_loss: 0.0633 - val_acc: 0.9845\n",
      "Epoch 35/50\n",
      "8000/8000 [==============================] - 2s - loss: 0.0079 - acc: 0.9976 - val_loss: 0.0589 - val_acc: 0.9850\n",
      "Epoch 36/50\n",
      "8000/8000 [==============================] - 2s - loss: 0.0052 - acc: 0.9981 - val_loss: 0.0604 - val_acc: 0.9845\n",
      "Epoch 37/50\n",
      "8000/8000 [==============================] - 2s - loss: 0.0068 - acc: 0.9985 - val_loss: 0.0603 - val_acc: 0.9845\n",
      "Epoch 38/50\n",
      "8000/8000 [==============================] - 2s - loss: 0.0042 - acc: 0.9984 - val_loss: 0.0643 - val_acc: 0.9840\n",
      "Epoch 39/50\n",
      "8000/8000 [==============================] - 2s - loss: 0.0048 - acc: 0.9985 - val_loss: 0.0677 - val_acc: 0.9840\n",
      "Epoch 40/50\n",
      "8000/8000 [==============================] - 2s - loss: 0.0048 - acc: 0.9975 - val_loss: 0.0698 - val_acc: 0.9835\n",
      "Epoch 41/50\n",
      "8000/8000 [==============================] - 2s - loss: 0.0050 - acc: 0.9975 - val_loss: 0.0706 - val_acc: 0.9835\n",
      "Epoch 42/50\n",
      "8000/8000 [==============================] - 2s - loss: 0.0049 - acc: 0.9983 - val_loss: 0.0727 - val_acc: 0.9840\n",
      "Epoch 43/50\n",
      "8000/8000 [==============================] - 2s - loss: 0.0022 - acc: 0.9991 - val_loss: 0.0705 - val_acc: 0.9835\n",
      "Epoch 44/50\n",
      "8000/8000 [==============================] - 2s - loss: 0.0041 - acc: 0.9985 - val_loss: 0.0664 - val_acc: 0.9845\n",
      "Epoch 45/50\n",
      "8000/8000 [==============================] - 2s - loss: 0.0036 - acc: 0.9988 - val_loss: 0.0711 - val_acc: 0.9835\n",
      "Epoch 46/50\n",
      "8000/8000 [==============================] - 2s - loss: 0.0029 - acc: 0.9990 - val_loss: 0.0732 - val_acc: 0.9835\n",
      "Epoch 47/50\n",
      "8000/8000 [==============================] - 2s - loss: 0.0035 - acc: 0.9988 - val_loss: 0.0733 - val_acc: 0.9835\n",
      "Epoch 48/50\n",
      "8000/8000 [==============================] - 2s - loss: 0.0028 - acc: 0.9990 - val_loss: 0.0765 - val_acc: 0.9835\n",
      "Epoch 49/50\n",
      "8000/8000 [==============================] - 2s - loss: 0.0032 - acc: 0.9988 - val_loss: 0.0763 - val_acc: 0.9830\n",
      "Epoch 50/50\n",
      "8000/8000 [==============================] - 2s - loss: 0.0034 - acc: 0.9988 - val_loss: 0.0792 - val_acc: 0.9830\n"
     ]
    }
   ],
   "source": [
    "model.compile(loss='categorical_crossentropy', optimizer='rmsprop', metrics=['accuracy'])\n",
    "model_fitted = model.fit(x_train, y_train, batch_size=150, epochs=50, validation_split=0.2, shuffle=True)"
   ]
  },
  {
   "cell_type": "markdown",
   "metadata": {},
   "source": [
    "## Model Summery"
   ]
  },
  {
   "cell_type": "code",
   "execution_count": 73,
   "metadata": {},
   "outputs": [
    {
     "name": "stdout",
     "output_type": "stream",
     "text": [
      "_________________________________________________________________\n",
      "Layer (type)                 Output Shape              Param #   \n",
      "=================================================================\n",
      "lstm_1 (LSTM)                (None, 1, 10)             759880    \n",
      "_________________________________________________________________\n",
      "dropout_1 (Dropout)          (None, 1, 10)             0         \n",
      "_________________________________________________________________\n",
      "dense_1 (Dense)              (None, 1, 10)             110       \n",
      "_________________________________________________________________\n",
      "dropout_2 (Dropout)          (None, 1, 10)             0         \n",
      "_________________________________________________________________\n",
      "dense_2 (Dense)              (None, 1, 3)              33        \n",
      "=================================================================\n",
      "Total params: 760,023\n",
      "Trainable params: 760,023\n",
      "Non-trainable params: 0\n",
      "_________________________________________________________________\n",
      "dict_keys(['val_loss', 'val_acc', 'loss', 'acc'])\n"
     ]
    }
   ],
   "source": [
    "model.summary()\n",
    "print(model_fitted.history.keys())"
   ]
  },
  {
   "cell_type": "markdown",
   "metadata": {},
   "source": [
    "## Model Validation"
   ]
  },
  {
   "cell_type": "markdown",
   "metadata": {},
   "source": [
    "### Plot Loss vs epoch"
   ]
  },
  {
   "cell_type": "code",
   "execution_count": 76,
   "metadata": {},
   "outputs": [
    {
     "data": {
      "image/png": "[encoded data removed]",
      "text/plain": [
       "<matplotlib.figure.Figure at 0x1a10a4eb8>"
      ]
     },
     "metadata": {},
     "output_type": "display_data"
    }
   ],
   "source": [
    "plt.figure(figsize=(14, 8))\n",
    "plt.plot(model_fitted.history['loss'], color = \"green\")\n",
    "plt.plot(model_fitted.history['val_loss'], color = \"red\")\n",
    "plt.title('Model Loss')\n",
    "plt.ylabel('loss')\n",
    "plt.xlabel('epoch')\n",
    "plt.legend(['train loss', 'validation loss'], loc='upper right')\n",
    "plt.show()"
   ]
  },
  {
   "cell_type": "markdown",
   "metadata": {},
   "source": [
    "### Plot Accuracy vs. epoch"
   ]
  },
  {
   "cell_type": "code",
   "execution_count": 75,
   "metadata": {},
   "outputs": [
    {
     "data": {
      "image/png": "[encoded data removed]",
      "text/plain": [
       "<matplotlib.figure.Figure at 0x1a1006668>"
      ]
     },
     "metadata": {},
     "output_type": "display_data"
    }
   ],
   "source": [
    "plt.figure(figsize=(14, 8))\n",
    "plt.plot(model_fitted.history['acc'], color = \"green\")\n",
    "plt.plot(model_fitted.history['val_acc'], color = \"red\")\n",
    "plt.title('Model Accuracy')\n",
    "plt.ylabel('accuracy')\n",
    "plt.xlabel('epoch')\n",
    "plt.legend(['train accuracy', 'validation accuracy'], loc='lower right')\n",
    "plt.show()"
   ]
  },
  {
   "cell_type": "markdown",
   "metadata": {},
   "source": [
    "## Predict training data set"
   ]
  },
  {
   "cell_type": "code",
   "execution_count": 56,
   "metadata": {},
   "outputs": [
    {
     "data": {
      "text/html": [
       "<div>\n",
       "<style>\n",
       "    .dataframe thead tr:only-child th {\n",
       "        text-align: right;\n",
       "    }\n",
       "\n",
       "    .dataframe thead th {\n",
       "        text-align: left;\n",
       "    }\n",
       "\n",
       "    .dataframe tbody tr th {\n",
       "        vertical-align: top;\n",
       "    }\n",
       "</style>\n",
       "<table border=\"1\" class=\"dataframe\">\n",
       "  <thead>\n",
       "    <tr style=\"text-align: right;\">\n",
       "      <th></th>\n",
       "      <th>language</th>\n",
       "      <th>sentences</th>\n",
       "      <th>language2</th>\n",
       "      <th>prediction_lang</th>\n",
       "    </tr>\n",
       "  </thead>\n",
       "  <tbody>\n",
       "    <tr>\n",
       "      <th>0</th>\n",
       "      <td>fr</td>\n",
       "      <td>re j'accepte lapénitence; aux conditions</td>\n",
       "      <td>2</td>\n",
       "      <td>fr</td>\n",
       "    </tr>\n",
       "    <tr>\n",
       "      <th>1</th>\n",
       "      <td>fr</td>\n",
       "      <td>, ne vous irritez point desimpertinences</td>\n",
       "      <td>2</td>\n",
       "      <td>fr</td>\n",
       "    </tr>\n",
       "    <tr>\n",
       "      <th>2</th>\n",
       "      <td>es</td>\n",
       "      <td>a que se topó donQuijote en topar con un</td>\n",
       "      <td>1</td>\n",
       "      <td>es</td>\n",
       "    </tr>\n",
       "    <tr>\n",
       "      <th>3</th>\n",
       "      <td>fr</td>\n",
       "      <td>fameux Pierre de Provence jusqu'à prése</td>\n",
       "      <td>2</td>\n",
       "      <td>fr</td>\n",
       "    </tr>\n",
       "    <tr>\n",
       "      <th>4</th>\n",
       "      <td>en</td>\n",
       "      <td>nimals. And then he went on at a tremend</td>\n",
       "      <td>0</td>\n",
       "      <td>en</td>\n",
       "    </tr>\n",
       "  </tbody>\n",
       "</table>\n",
       "</div>"
      ],
      "text/plain": [
       "  language                                 sentences  language2  \\\n",
       "0       fr  re j'accepte lapénitence; aux conditions          2   \n",
       "1       fr  , ne vous irritez point desimpertinences          2   \n",
       "2       es  a que se topó donQuijote en topar con un          1   \n",
       "3       fr   fameux Pierre de Provence jusqu'à prése          2   \n",
       "4       en  nimals. And then he went on at a tremend          0   \n",
       "\n",
       "  prediction_lang  \n",
       "0              fr  \n",
       "1              fr  \n",
       "2              es  \n",
       "3              fr  \n",
       "4              en  "
      ]
     },
     "execution_count": 56,
     "metadata": {},
     "output_type": "execute_result"
    }
   ],
   "source": [
    "predict_train = model.predict(x_train)\n",
    "\n",
    "predict_arr = []\n",
    "for i in range (0, predict_train.shape[0]):\n",
    "    lang = lan_cat[np.argmax(predict_train[i])]\n",
    "    predict_arr.append(lang)\n",
    "\n",
    "df['prediction_lang'] = predict_arr\n",
    "df.head() "
   ]
  },
  {
   "cell_type": "markdown",
   "metadata": {},
   "source": [
    "### Accuracy assessment"
   ]
  },
  {
   "cell_type": "code",
   "execution_count": 63,
   "metadata": {},
   "outputs": [
    {
     "name": "stdout",
     "output_type": "stream",
     "text": [
      "Model Accuracy: 99.66%\n"
     ]
    }
   ],
   "source": [
    "# summarize performance of the model\n",
    "scores = model.evaluate(x_train, y_train, verbose=0)\n",
    "print(\"Model Accuracy: %.2f%%\" % (scores[1]*100))"
   ]
  },
  {
   "cell_type": "markdown",
   "metadata": {},
   "source": [
    "The overall accuracy of the model on the training and the validation dataset is 99.66%"
   ]
  },
  {
   "cell_type": "code",
   "execution_count": 59,
   "metadata": {},
   "outputs": [
    {
     "data": {
      "text/html": [
       "<div>\n",
       "<style>\n",
       "    .dataframe thead tr:only-child th {\n",
       "        text-align: right;\n",
       "    }\n",
       "\n",
       "    .dataframe thead th {\n",
       "        text-align: left;\n",
       "    }\n",
       "\n",
       "    .dataframe tbody tr th {\n",
       "        vertical-align: top;\n",
       "    }\n",
       "</style>\n",
       "<table border=\"1\" class=\"dataframe\">\n",
       "  <thead>\n",
       "    <tr style=\"text-align: right;\">\n",
       "      <th>prediction_lang</th>\n",
       "      <th>en</th>\n",
       "      <th>es</th>\n",
       "      <th>fr</th>\n",
       "    </tr>\n",
       "    <tr>\n",
       "      <th>language</th>\n",
       "      <th></th>\n",
       "      <th></th>\n",
       "      <th></th>\n",
       "    </tr>\n",
       "  </thead>\n",
       "  <tbody>\n",
       "    <tr>\n",
       "      <th>en</th>\n",
       "      <td>1115</td>\n",
       "      <td>0</td>\n",
       "      <td>5</td>\n",
       "    </tr>\n",
       "    <tr>\n",
       "      <th>es</th>\n",
       "      <td>0</td>\n",
       "      <td>4521</td>\n",
       "      <td>21</td>\n",
       "    </tr>\n",
       "    <tr>\n",
       "      <th>fr</th>\n",
       "      <td>0</td>\n",
       "      <td>8</td>\n",
       "      <td>4330</td>\n",
       "    </tr>\n",
       "  </tbody>\n",
       "</table>\n",
       "</div>"
      ],
      "text/plain": [
       "prediction_lang    en    es    fr\n",
       "language                         \n",
       "en               1115     0     5\n",
       "es                  0  4521    21\n",
       "fr                  0     8  4330"
      ]
     },
     "execution_count": 59,
     "metadata": {},
     "output_type": "execute_result"
    }
   ],
   "source": [
    "pd.crosstab(df['language'], df['prediction_lang'])"
   ]
  },
  {
   "cell_type": "markdown",
   "metadata": {},
   "source": [
    "## Predict testing data set"
   ]
  },
  {
   "cell_type": "code",
   "execution_count": 18,
   "metadata": {
    "collapsed": true
   },
   "outputs": [],
   "source": [
    "predict_test = model.predict(x_test)"
   ]
  },
  {
   "cell_type": "code",
   "execution_count": 19,
   "metadata": {},
   "outputs": [
    {
     "data": {
      "text/plain": [
       "array([[[  3.60221647e-19,   8.45606459e-15,   1.00000000e+00]],\n",
       "\n",
       "       [[  2.02449550e-11,   2.29430119e-09,   1.00000000e+00]],\n",
       "\n",
       "       [[  5.48455787e-08,   1.00000000e+00,   5.85892668e-09]],\n",
       "\n",
       "       ..., \n",
       "       [[  2.01768449e-14,   1.00000000e+00,   3.95786902e-15]],\n",
       "\n",
       "       [[  3.02118898e-14,   1.00000000e+00,   1.16431292e-13]],\n",
       "\n",
       "       [[  9.99998331e-01,   5.42971357e-09,   1.70911790e-06]]], dtype=float32)"
      ]
     },
     "execution_count": 19,
     "metadata": {},
     "output_type": "execute_result"
    }
   ],
   "source": [
    "predict_test"
   ]
  },
  {
   "cell_type": "code",
   "execution_count": 54,
   "metadata": {},
   "outputs": [
    {
     "data": {
      "text/plain": [
       "(5000, 1, 3)"
      ]
     },
     "execution_count": 54,
     "metadata": {},
     "output_type": "execute_result"
    }
   ],
   "source": [
    "predict_test.shape"
   ]
  },
  {
   "cell_type": "code",
   "execution_count": 55,
   "metadata": {},
   "outputs": [
    {
     "data": {
      "text/html": [
       "<div>\n",
       "<style>\n",
       "    .dataframe thead tr:only-child th {\n",
       "        text-align: right;\n",
       "    }\n",
       "\n",
       "    .dataframe thead th {\n",
       "        text-align: left;\n",
       "    }\n",
       "\n",
       "    .dataframe tbody tr th {\n",
       "        vertical-align: top;\n",
       "    }\n",
       "</style>\n",
       "<table border=\"1\" class=\"dataframe\">\n",
       "  <thead>\n",
       "    <tr style=\"text-align: right;\">\n",
       "      <th></th>\n",
       "      <th>sentences</th>\n",
       "      <th>prediction_lang</th>\n",
       "    </tr>\n",
       "  </thead>\n",
       "  <tbody>\n",
       "    <tr>\n",
       "      <th>0</th>\n",
       "      <td>ends la messe chaquejour; je donne aux p</td>\n",
       "      <td>fr</td>\n",
       "    </tr>\n",
       "    <tr>\n",
       "      <th>1</th>\n",
       "      <td>si grièvement blessé, dit Sancho, voilà</td>\n",
       "      <td>fr</td>\n",
       "    </tr>\n",
       "    <tr>\n",
       "      <th>2</th>\n",
       "      <td>ya no fuese queel vencedor hubiese perd</td>\n",
       "      <td>es</td>\n",
       "    </tr>\n",
       "    <tr>\n",
       "      <th>3</th>\n",
       "      <td>ospobres virtuosos y discretos tienen qu</td>\n",
       "      <td>es</td>\n",
       "    </tr>\n",
       "    <tr>\n",
       "      <th>4</th>\n",
       "      <td>í, ven: ayudarte he a subir donde dices.</td>\n",
       "      <td>es</td>\n",
       "    </tr>\n",
       "  </tbody>\n",
       "</table>\n",
       "</div>"
      ],
      "text/plain": [
       "                                  sentences prediction_lang\n",
       "0  ends la messe chaquejour; je donne aux p              fr\n",
       "1  si grièvement blessé, dit Sancho, voilà               fr\n",
       "2   ya no fuese queel vencedor hubiese perd              es\n",
       "3  ospobres virtuosos y discretos tienen qu              es\n",
       "4  í, ven: ayudarte he a subir donde dices.              es"
      ]
     },
     "execution_count": 55,
     "metadata": {},
     "output_type": "execute_result"
    }
   ],
   "source": [
    "predict_arr = []\n",
    "for i in range (0, predict_test.shape[0]):\n",
    "    lang = lan_cat[np.argmax(predict_test[i])]\n",
    "    predict_arr.append(lang)\n",
    "\n",
    "df_test['prediction_lang'] = predict_arr\n",
    "df_test.head()    "
   ]
  }
 ],
 "metadata": {
  "kernelspec": {
   "display_name": "Python 3",
   "language": "python",
   "name": "python3"
  },
  "language_info": {
   "codemirror_mode": {
    "name": "ipython",
    "version": 3
   },
   "file_extension": ".py",
   "mimetype": "text/x-python",
   "name": "python",
   "nbconvert_exporter": "python",
   "pygments_lexer": "ipython3",
   "version": "3.6.2"
  }
 },
 "nbformat": 4,
 "nbformat_minor": 2
}
